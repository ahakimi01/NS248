{
 "cells": [
  {
   "cell_type": "markdown",
   "id": "6fdeb25c-ae4a-40a8-a3c3-7fa15b192378",
   "metadata": {
    "tags": []
   },
   "source": [
    "### NS 248 Problem Set 3 – Hypothesis Testing 2\n",
    "\n",
    "1\\. Thoughtful (and fundable) experimental design requires power\n",
    "analyses, where one estimates the number of subjects or measurements\n",
    "required to have a reasonable chance of detecting a difference between\n",
    "or among groups. Suppose you plan to do a study where you want to\n",
    "compare the number of somatostatin positive (SOM+) neurons in the\n",
    "dentate gyrus (DG) region of the hippocampus across an older and a\n",
    "younger group of mice. You plan to perfuse them, cut sections, stain for\n",
    "somatostatin, and then count the number of positive cells for each\n",
    "animal. From previous studies you expect there to be a mean of 5000 SOM+ DG interneurons in the younger animals,\n",
    "with a standard deviation of 1000. Assume the standard deviation is the\n",
    "same for the older group and that all of your measurements will be drawn\n",
    "from Gaussian distributions."
   ]
  },
  {
   "cell_type": "markdown",
   "id": "87deede5-9ceb-4a5a-bd41-6b61387b959d",
   "metadata": {},
   "source": [
    "a.  How many animals would you need in each group to have an 80% of\n",
    "    detecting, at a p\\<0.05 level, a difference in mean SOM+ interneuron\n",
    "    number of 2000 (e.g. the older animals having a mean of 3000\n",
    "    interneurons)? Assume that you’ll use a two-sample t-test. This can\n",
    "    be calculated analytically, but we suggest using simulations to\n",
    "    answer this question.\n"
   ]
  },
  {
   "cell_type": "code",
   "execution_count": null,
   "id": "89ae8d5a-62a2-4e78-819e-4ddbdb6100f5",
   "metadata": {},
   "outputs": [],
   "source": [
    "#code here"
   ]
  },
  {
   "cell_type": "markdown",
   "id": "393b3a94-3484-4ec9-9a82-23ebe71f2d2f",
   "metadata": {},
   "source": [
    "b.  Repeat for expected differences of 100, 500, and 1000, and plot the\n",
    "    number of animals required vs. the expected difference."
   ]
  },
  {
   "cell_type": "code",
   "execution_count": null,
   "id": "a5881c70-ced7-40f3-b105-d60fb027c1a5",
   "metadata": {},
   "outputs": [],
   "source": [
    "#code here"
   ]
  },
  {
   "cell_type": "markdown",
   "id": "1c796ee8-2c1a-4a95-9da2-d94e6c16c7db",
   "metadata": {
    "tags": []
   },
   "source": [
    "c.  Now suppose you find a new study which suggests the standard\n",
    "    deviation of the count in young animals is actually 500, not 1000.\n",
    "    Repeat a. and b., and compare the results given the different values\n",
    "    of the expected standard deviation."
   ]
  },
  {
   "cell_type": "code",
   "execution_count": null,
   "id": "d895083f-7d0b-4939-b9a9-4c7dda9bb1b7",
   "metadata": {},
   "outputs": [],
   "source": [
    "#code here"
   ]
  },
  {
   "cell_type": "markdown",
   "id": "07581f58-ffb0-468c-92a2-fe86137940e7",
   "metadata": {},
   "source": [
    "2\\. Suppose that you are doing a behavioral experiment where you are\n",
    "measuring the latency of different groups of animals to enter the middle\n",
    "of an open field environment. Your goal is to determine, for each\n",
    "dataset, whether the groups differ from one another. Make sure you are\n",
    "clear on exactly what difference between the groups you are testing for\n",
    "in each case and what a significant difference would mean.\n",
    "\n",
    "For each of the datasets below, each row has two values: the group\n",
    "number (1 or 2) and the latency measure for the animal (a time in\n",
    "seconds). For each dataset, do the following:\n",
    "\n",
    "1\\. Read in the data\n",
    "\n",
    "2\\. Plot histograms of the data from each group.\n",
    "\n",
    "3\\. Determine what sort of statistical test is appropriate for the\n",
    "data and explain why that test is appropriate.\n",
    "\n",
    "4\\. Carry out the test and report whether you would or would not claim\n",
    "that the groups have different escape latencies. If you decide a\n",
    "non-parametric test is appropriate, report the results from the\n",
    "parametric test as well for comparison and explain any differences\n",
    "between them.\n",
    "\n",
    "Datasets:\n",
    "\n",
    "1.  PS3_dataset1.txt"
   ]
  },
  {
   "cell_type": "code",
   "execution_count": 2,
   "id": "d57d3aa3-f69c-42d4-858c-e9a64e14bfca",
   "metadata": {},
   "outputs": [],
   "source": [
    "#data = numpy.loadtxt(\"PS3_dataset1.txt\") is a good way to start"
   ]
  },
  {
   "cell_type": "markdown",
   "id": "e4df8bd8-9eea-45e8-8598-e5cf63a5c365",
   "metadata": {},
   "source": [
    "2.  PS3_dataset2.txt"
   ]
  },
  {
   "cell_type": "code",
   "execution_count": null,
   "id": "a0c69aad-beb5-4342-8e29-08cad16e30b4",
   "metadata": {},
   "outputs": [],
   "source": []
  },
  {
   "cell_type": "markdown",
   "id": "93eea91d-a80f-45f5-b38f-899a50de2b20",
   "metadata": {},
   "source": [
    "3.  PS3_dataset3.txt"
   ]
  },
  {
   "cell_type": "code",
   "execution_count": null,
   "id": "ea5dfece-5b58-42c2-8e4a-622e4e3ef638",
   "metadata": {},
   "outputs": [],
   "source": []
  },
  {
   "cell_type": "markdown",
   "id": "bc65707b-77a1-47cb-af3d-2ca41a761365",
   "metadata": {},
   "source": [
    "4.  PS3_dataset4.txt"
   ]
  },
  {
   "cell_type": "code",
   "execution_count": null,
   "id": "a8c9de59-adf6-4526-a027-9f16a34fb360",
   "metadata": {},
   "outputs": [],
   "source": []
  },
  {
   "cell_type": "markdown",
   "id": "23f9fa89-c781-4b30-9d74-8db245b424ac",
   "metadata": {},
   "source": [
    "3\\. Suppose you are interested in testing whether a potential anxiolytic\n",
    "drug changes latencies in the same experimental setup as problem 2\n",
    "above. You collect data from animals given either the drug or a saline\n",
    "control injection, and for this dataset (PS3_dataset5.txt), 1 in the\n",
    "first column represents the animal number, the second the condition (1\n",
    "for saline, 2 for drug) and the third the latency. Repeat instructions\n",
    "1-4 from Problem 2 for these data, modifying as you feel is appropriate\n",
    "for this dataset. Would you conclude that it is likely that the drug has\n",
    "an effect?"
   ]
  },
  {
   "cell_type": "code",
   "execution_count": null,
   "id": "cd536934-e9c7-42b4-8e9c-0d397c824af1",
   "metadata": {},
   "outputs": [],
   "source": []
  },
  {
   "cell_type": "markdown",
   "id": "3ee94171-e444-4661-8c09-ef637d52188f",
   "metadata": {},
   "source": [
    "4\\. Spike trains can be analyzed with respect to brain or behavioral\n",
    "rhythms. Suppose that you’ve collected spikes from two neurons (500\n",
    "spikes each). Suppose you have also recorded the phase of the whisking\n",
    "cycle, where a phase of 0 corresponds to when the whisker is fully\n",
    "anterior and a phase of pi corresponds to when the whisker is at its\n",
    "fully posterior position. PS3_dataset6.txt contains the phases of each\n",
    "spike, where the first column corresponds to the neuron number (1 or 2)\n",
    "and the second to the phase of the spike.\n",
    "\n",
    "a\\. create and plot xy and polar plot histograms\n",
    "of spike counts in phase bins of width pi/12 for each cell. Does\n",
    "either cell appear to be more active at some phases rather than\n",
    "others? \n"
   ]
  },
  {
   "cell_type": "code",
   "execution_count": null,
   "id": "910cb61d-5ca5-48b5-ab8e-edb7e2627492",
   "metadata": {},
   "outputs": [],
   "source": []
  },
  {
   "cell_type": "markdown",
   "id": "b261cbdf-2a58-42ac-8978-dbc1f1893086",
   "metadata": {},
   "source": [
    "b. The Rayleigh test can be used to determine whether a set of\n",
    "phases can be differentiated from a uniform circular distribution. Find a python or Matlab function that runs the test,\n",
    "install it, and determine whether you can reject the null hypothesis of uniformity for either of the distributions."
   ]
  },
  {
   "cell_type": "code",
   "execution_count": null,
   "id": "e4405db5-a2a8-4af4-8887-eb3bdeb981d0",
   "metadata": {},
   "outputs": [],
   "source": []
  }
 ],
 "metadata": {
  "kernelspec": {
   "display_name": "Python 3 (ipykernel)",
   "language": "python",
   "name": "python3"
  },
  "language_info": {
   "codemirror_mode": {
    "name": "ipython",
    "version": 3
   },
   "file_extension": ".py",
   "mimetype": "text/x-python",
   "name": "python",
   "nbconvert_exporter": "python",
   "pygments_lexer": "ipython3",
   "version": "3.11.11"
  }
 },
 "nbformat": 4,
 "nbformat_minor": 5
}
