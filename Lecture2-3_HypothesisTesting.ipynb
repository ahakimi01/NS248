{
 "cells": [
  {
   "cell_type": "code",
   "execution_count": 94,
   "id": "bd8c9593-46f9-4c74-ab16-2d2790e692d7",
   "metadata": {},
   "outputs": [],
   "source": [
    "%matplotlib widget"
   ]
  },
  {
   "cell_type": "markdown",
   "id": "1d932726-12a7-4435-b84c-6449d2712488",
   "metadata": {
    "slideshow": {
     "slide_type": "slide"
    },
    "tags": []
   },
   "source": [
    "### NS248 Lecture 2-3 – Hypothesis Testing**\n",
    "\n",
    "Suggested reading: Book ch. 11, 12, 15, Flip’s lecture notes\n",
    "(Lecture3_Flip.pdf)"
   ]
  },
  {
   "cell_type": "markdown",
   "id": "9dcd67f9-0c6a-4839-ba7b-7612e0bc59e4",
   "metadata": {
    "slideshow": {
     "slide_type": "slide"
    },
    "tags": []
   },
   "source": [
    "#### What is a “hypothesis” and how do you test it?**\n",
    "\n",
    "1.  Hypotheses in the colloquial sense\n",
    "\n",
    "2.  A formal hypothesis:\n",
    "\n",
    "    1.  A contrast between two alternatives:\n",
    "\n",
    "        1.  H0 – “Null hypothesis”\n",
    "\n",
    "        2.  H1 – “Alternative hypothesis”, can be multiple H1’s for a\n",
    "            given H0\n",
    "\n",
    "        3.  Example: flip a fair coin N times and count the number of heads\n",
    "\n",
    "            1.  What’s H0, H1?\n"
   ]
  },
  {
   "cell_type": "markdown",
   "id": "8ebda561-9fa5-4a97-a02e-25e7a7c292ca",
   "metadata": {
    "slideshow": {
     "slide_type": "slide"
    },
    "tags": []
   },
   "source": [
    "3.  Hypothesis Testing\n",
    "\n",
    "    1.  Formulate H0, H1\n",
    "\n",
    "    2.  Formulate quantitative relationship to **observables** (a\n",
    "        **“model”**)\n",
    "\n",
    "        1.  What is a “model” for the example above\n",
    "\n",
    "        2.  Here is where the **assumptions** come in\n",
    "\n",
    "    3.  Choose test. This typically entails:\n",
    "\n",
    "        1.  A **statistic**, i.e. a scalar function of the data\n",
    "\n",
    "        2.  A distribution of the statistic under H0"
   ]
  },
  {
   "cell_type": "markdown",
   "id": "c4002f5b-b70c-4f7e-a0c9-ff6ccadee77a",
   "metadata": {
    "slideshow": {
     "slide_type": "slide"
    },
    "tags": []
   },
   "source": [
    "#### Hypothesis Testing - continued\n",
    "\n",
    " - Two results are possible:\n",
    "\n",
    "> 1.  **reject** H0 in favor of H1\n",
    "\n",
    "> 2.  **do not reject** H0\n",
    "\n",
    " - Significance level\n",
    "\n",
    "> α = Type I / “false positive”, P(reject H0|H0)\n",
    "\n",
    "> Reject H0 when p(statistic|H0)\\< α\n",
    "\n",
    "> 1− α ”confidence level”\n",
    "\n",
    " - Can never “prove” H0 or H1. Why?\n",
    "\n",
    " "
   ]
  },
  {
   "cell_type": "markdown",
   "id": "7d40d93d-7285-4995-a7e8-9ad58efa61f1",
   "metadata": {
    "slideshow": {
     "slide_type": "slide"
    },
    "tags": []
   },
   "source": [
    "### Power\n",
    "\n",
    " - β = Type II errors/”false negative”, P(accept H0|H1)\n",
    "\n",
    "- Power = 1-β, i.e. “hit rate”, P(reject H0|H1)\n"
   ]
  },
  {
   "cell_type": "markdown",
   "id": "b66759ec-aa88-488a-8855-7266ca92022d",
   "metadata": {
    "slideshow": {
     "slide_type": "slide"
    },
    "tags": []
   },
   "source": [
    "#### Power analyses \n",
    "\n",
    "1.  Compute N’s necessary given hypothesized effect size\n",
    "\n",
    "2.  Requires that you specify\n",
    "\n",
    "    - Distribution of data (Gaussian, Poisson, log normal, …)\n",
    "\n",
    "    - Expected parameters of distribution (mean, stdev, etc.)\n",
    "\n",
    "    - Desired probability of getting effect (80%, 90%, …)\n",
    "\n",
    "3.  Calculate N required\n",
    "\n",
    "    - Can be done analytically, but easier (and better?) to do with\n",
    "        simulation.\n"
   ]
  },
  {
   "cell_type": "markdown",
   "id": "7d03a31e-5d33-4822-98b9-341079d0b52e",
   "metadata": {
    "slideshow": {
     "slide_type": "slide"
    },
    "tags": []
   },
   "source": [
    "### Steps in testing a hypothesis about data\n",
    "\n",
    "1.  Characterize the data\n",
    "\n",
    "    1.  Calculate measures of mean, variance, etc.\n",
    "\n",
    "    2.  Estimate distribution\n",
    "\n",
    "2.  Compare parameters or full distribution to reference distribution\n",
    "    (Computed or calculated)"
   ]
  },
  {
   "cell_type": "markdown",
   "id": "6585172a-a282-4180-bd60-a53adc6fbc57",
   "metadata": {
    "slideshow": {
     "slide_type": "slide"
    },
    "tags": []
   },
   "source": [
    "Example problem: given a set of samples $ (a_1, a_2, ... a_n) $\n",
    "     from distribution A and another set $ (b_1, b_2, ... a_m) $\n",
    "     from distribution B, how do we\n",
    "    determine whether A and B are likely to be differerent?\n",
    "\n",
    "- Probability of each particular observation is low for discrete process and 0 for continuous process.\n",
    "\n",
    "- We often estimate the parameters of distributions A and B from the data and then compare those parameters and their error estimates.\n"
   ]
  },
  {
   "cell_type": "markdown",
   "id": "55aab7cc-3304-4144-9871-0ee1ce20eaab",
   "metadata": {
    "slideshow": {
     "slide_type": "slide"
    },
    "tags": []
   },
   "source": [
    "### Measures\n",
    "\n",
    "#### Mean (Expected Value) \n",
    " - also corresponds to center of mass\n",
    "\n",
    "$$ \\mathrm{E}[X]=\\sum_{i=-\\infty}^{\\infty} x f(x) \\quad \\text{ for discrete distributions}$$ \n",
    "    \n",
    "    \n",
    "$$ \\mathrm{E}[X]=\\int_{-\\infty}^{\\infty} x f(x) d x \\quad \\text{ for continuous distributions}$$ \n",
    "\n",
    "\n",
    "\n"
   ]
  },
  {
   "cell_type": "markdown",
   "id": "f77c0512-cf41-47f8-8f01-5a50dc363abf",
   "metadata": {
    "slideshow": {
     "slide_type": "slide"
    },
    "tags": []
   },
   "source": [
    " - Properties of expected value\n",
    " \n",
    "$$ \\mathrm{E}[a X+b]=a \\mathrm{~E}[X]+b \\text{  (Linearity)} $$\n",
    "\n",
    "$$ \\mathrm{E}\\left[X_1+\\ldots+X_n\\right]=\\mathrm{E}\\left[X_{\\mathrm{1}}\\right]+\\ldots+\\mathrm{E}\\left[X_n\\right] $$\n",
    "\n",
    "$$ \\text{If } \\left[X_1, \\ldots, X_n\\right] \\text{ are independent random variables, then } E\\left[\\prod_{i=1}^n X_i\\right]=\\prod_{i=1}^n \\mathrm{E}\\left[X_i\\right]\n",
    "$$"
   ]
  },
  {
   "cell_type": "markdown",
   "id": "d3d3c9c1-9d6c-4d3c-923a-5ccc713d2b5e",
   "metadata": {
    "slideshow": {
     "slide_type": "slide"
    },
    "tags": []
   },
   "source": [
    "#### Variance \n",
    "\n",
    "$$ \\mathrm{Var(X)}=\\sigma^2=E\\left[(X-\\mu)^2\\right] \\text { where } \\mu=\\mathrm{E}[X] $$    \n",
    "$$ \\sigma \\text { is the standard deviation} $$ \n",
    "\n",
    " - Properties of variance \n",
    " \n",
    "$$ \\mathrm{Var}[a X+b]=a^2 \\mathrm{~Var}[X]+b $$\n",
    "\n",
    "$$ \\mathrm{Var}\\left[X_1+\\ldots+X_n\\right]=\\mathrm{Var}\\left[X_{\\mathrm{1}}\\right]+\\ldots+\\mathrm{Var}\\left[X_n\\right] $$\n",
    "\n"
   ]
  },
  {
   "cell_type": "markdown",
   "id": "cafc3459-898e-4294-ba19-124a7fe5c78f",
   "metadata": {
    "slideshow": {
     "slide_type": "slide"
    },
    "tags": []
   },
   "source": [
    "#### Median \n",
    "\n",
    "$$\n",
    "\\operatorname{Median}(X)=m=\\text { point where } \\operatorname{Pr}(X \\leq m) \\geq \\frac{1}{2} \\text{ and } \\operatorname{Pr}(X \\geq m) \\geq \\frac{1}{2} .\n",
    "$$"
   ]
  },
  {
   "cell_type": "markdown",
   "id": "badb2403-a07d-46b3-b84b-f23efb4b1b34",
   "metadata": {
    "slideshow": {
     "slide_type": "slide"
    },
    "tags": []
   },
   "source": [
    "#### Mode \n",
    "\n",
    "$$ \\operatorname{Mode}(X) = argmax f(x) $$"
   ]
  },
  {
   "cell_type": "markdown",
   "id": "a6770371-2b5b-4de9-a837-97fcbe0103f7",
   "metadata": {
    "slideshow": {
     "slide_type": "subslide"
    },
    "tags": []
   },
   "source": [
    "### Returning to the distributions from Lecture 1"
   ]
  },
  {
   "cell_type": "markdown",
   "id": "fae9b6cf-7629-401c-9015-45dd29a84c1f",
   "metadata": {
    "slideshow": {
     "slide_type": "slide"
    },
    "tags": []
   },
   "source": [
    "\n",
    "- Uniform\n",
    "\n",
    "$$\n",
    "\\begin{aligned}\n",
    "& f(x)=\\frac{1}{b-a}, a \\leq x \\leq b \\\\\n",
    "& \\mathrm{E}[x]=\\frac{a+b}{2} \\\\\n",
    "& Var[X]=\\frac{(b-a)(b-a+2)}{12} \\text { (discrete) } \\\\\n",
    "& Var[X]=\\frac{(b-a)^2}{12} \\text { (continuous) }\n",
    "\\end{aligned}\n",
    "$$\n"
   ]
  },
  {
   "cell_type": "markdown",
   "id": "137d89c0-98cf-4d7f-aaf9-50eb17a9d42b",
   "metadata": {
    "slideshow": {
     "slide_type": "slide"
    },
    "tags": []
   },
   "source": [
    "- Bernoulli\n",
    "\n",
    "$$\n",
    "\\begin{aligned}\n",
    "& \\operatorname{Pr}(\\mathrm{k})=\\left\\{\\begin{array}{ll}\n",
    "p & \\mathrm{k}=1 \\\\\n",
    "1-p & \\mathrm{k}=0\n",
    "\\end{array}\\right\\} \\\\\n",
    "& \\mathrm{E}[\\mathrm{k}]=p \\\\\n",
    "& \\mathrm{Var}[\\mathrm{k}]=p(1-p)\n",
    "\\end{aligned}\n",
    "$$\n",
    "\n"
   ]
  },
  {
   "cell_type": "markdown",
   "id": "cab6cd24-dacb-40ca-8d77-e9426dc644dc",
   "metadata": {
    "slideshow": {
     "slide_type": "slide"
    },
    "tags": []
   },
   "source": [
    "- Binomial\n",
    "\n",
    "$$\n",
    "\\begin{aligned}\n",
    "& \\operatorname{Pr}(k)=\\binom{n}{k} p^k(1-p)^{n-k} \\\\\n",
    "& \\mathrm{E}[X]=n p \\\\\n",
    "& \\operatorname{Var}[X]=n p(1-p)\n",
    "\\end{aligned}\n",
    "$$\n"
   ]
  },
  {
   "cell_type": "markdown",
   "id": "0742abe9-468d-46fa-bf0f-49f52fc86c01",
   "metadata": {
    "slideshow": {
     "slide_type": "slide"
    },
    "tags": []
   },
   "source": [
    "\n",
    "- Gaussian\n",
    "\n",
    "$$\n",
    "\\begin{aligned}\n",
    "& f(x)=\\frac{1}{\\sigma \\sqrt{2 \\pi}} \\exp \\left(-\\frac{1}{2}\\left(\\frac{x-\\mu}{\\sigma}\\right)^2\\right) \\\\\n",
    "& \\mathrm{E}[x]=\\mu \\\\\n",
    "& \\operatorname{Var}[x]=\\sigma^2\n",
    "\\end{aligned}\n",
    "$$\n"
   ]
  },
  {
   "cell_type": "markdown",
   "id": "0d7ab04a-08fd-4f65-96e4-94836bd2d6cd",
   "metadata": {
    "jp-MarkdownHeadingCollapsed": true,
    "slideshow": {
     "slide_type": "slide"
    },
    "tags": []
   },
   "source": [
    "\n",
    "- Exponential\n",
    "\n",
    "$$\n",
    "\\begin{aligned}\n",
    "& f(x)=\\left\\{\\begin{array}{ll}\n",
    "\\lambda e^{-x \\lambda} & \\text { for } x>0 \\\\\n",
    "0 & \\text { for } x \\leq 0\n",
    "\\end{array}\\right\\} \\\\\n",
    "& E[x]=\\frac{1}{\\lambda} \\\\\n",
    "& \\operatorname{Var}[x]=\\frac{1}{\\lambda^2}\n",
    "\\end{aligned}\n",
    "$$\n"
   ]
  },
  {
   "cell_type": "markdown",
   "id": "7917570a-f7c1-457b-8224-c492a8f95617",
   "metadata": {
    "slideshow": {
     "slide_type": "slide"
    },
    "tags": []
   },
   "source": [
    "### Computing Parameters\n",
    "\n",
    "- We often do not have access to the actual distributions, and we often do not have enough information to estimate the entire distribution, so we calculate summary statistics."
   ]
  },
  {
   "cell_type": "markdown",
   "id": "71f02813-c1fc-4553-8a6f-9c012409d6f8",
   "metadata": {
    "slideshow": {
     "slide_type": "slide"
    },
    "tags": []
   },
   "source": [
    "#### Sample Mean: \n",
    "\n",
    "mean of random samples $\\ X_i $ is $$\\bar{X}=\\frac{1}{n}\\left(X_1+\\ldots+X_n\\right) $$\n",
    "\n",
    "Properties of the sample mean:\n",
    "$$\n",
    "\\begin{aligned}\n",
    "& \\mathrm{E}[\\bar{X}]=\\mu \\\\\n",
    "& \\operatorname{Var}(\\bar{X})=\\frac{\\operatorname{Var}(X)}{\\mathrm{n}}=\\frac{\\sigma^2}{\\mathrm{n}}, \\\\\n",
    "& \\sqrt{\\operatorname{Var}(\\bar{X})}=\\sqrt{\\frac{\\sigma^2}{\\mathrm{n}}}=\\frac{\\sigma}{\\sqrt{\\mathrm{n}}}\n",
    "\\end{aligned}\n",
    "$$\n"
   ]
  },
  {
   "cell_type": "markdown",
   "id": "a3d2eb31-ccc3-41e7-b3a0-e586ceb04f04",
   "metadata": {
    "slideshow": {
     "slide_type": "slide"
    },
    "tags": []
   },
   "source": [
    "\n",
    "#### Sample standard deviation: standard deviation of random samples\n",
    " \n",
    "$$\n",
    "s=\\sqrt{\\sum_{i=1}^N \\frac{\\left(X_i-\\bar{X}\\right)^2}{n-1}}\n",
    "$$\n",
    "- Note denominator"
   ]
  },
  {
   "cell_type": "markdown",
   "id": "6ec4e794-3e2a-48db-8e52-8b5827d44bd7",
   "metadata": {
    "slideshow": {
     "slide_type": "slide"
    },
    "tags": []
   },
   "source": [
    "#### Standard error of the mean\n",
    " \n",
    "$$\n",
    "stderr=\\frac{s}{\\sqrt{n}}\n",
    "$$\n",
    "\n",
    "- Expected deviation of estimated from true mean\n",
    "- Makes sense to compute if your estimate of the mean is likely to be distributed as a Gaussian.\n",
    "- Central limit theorem: the sampling distribution of the mean will always be normally distributed, as long as the sample size is large enough"
   ]
  },
  {
   "cell_type": "markdown",
   "id": "b3a0bd4d-dedc-4e5f-8b78-3d851c498165",
   "metadata": {
    "slideshow": {
     "slide_type": "slide"
    },
    "tags": []
   },
   "source": [
    "import numpy as np\n",
    "import scipy.ndimage as nd\n",
    "import matplotlib.pyplot as plt#### Standard Normal Distribution\n",
    "$$\n",
    "f(x)=\\frac{1}{\\sqrt{2 \\pi}} \\exp \\left(-\\frac{1}{2} x^2\\right)\n",
    "$$\n",
    "\n",
    "\n",
    "- Z-scores\n",
    "\n",
    "    Number of stdevs from mean\n",
    "\n",
    "$$\n",
    "z(x)=\\frac{x-\\overline{X}}{s}\n",
    "$$\n"
   ]
  },
  {
   "cell_type": "code",
   "execution_count": 108,
   "id": "f07f3ff5-9eaf-401a-a6c7-ff9d705a6202",
   "metadata": {
    "slideshow": {
     "slide_type": "slide"
    },
    "tags": []
   },
   "outputs": [],
   "source": [
    "import numpy as np\n",
    "import matplotlib.pyplot as plt\n",
    "#Plot of simulated and actual gaussian distribution\n",
    "from scipy.stats import norm\n",
    "\n",
    "mu = 0\n",
    "sigma = 1\n",
    "x = np.linspace(norm.ppf(0.001, loc=mu, scale=sigma),\n",
    "                norm.ppf(0.999, loc=mu, scale=sigma), 100)\n",
    "bin_edges = np.linspace(x[0]-.1, x[-1]+.1, 100)\n",
    "\n",
    "n_simulate = 100\n",
    "simulated_values = norm.rvs(loc=mu, scale=sigma ,size=n_simulate)"
   ]
  },
  {
   "cell_type": "code",
   "execution_count": 109,
   "id": "d8a413f1-6ac4-4ab2-b29f-f7aa1fca616b",
   "metadata": {
    "slideshow": {
     "slide_type": "slide"
    },
    "tags": []
   },
   "outputs": [
    {
     "data": {
      "application/vnd.jupyter.widget-view+json": {
       "model_id": "6d80ffe2f85249dc8409e3da4b324e72",
       "version_major": 2,
       "version_minor": 0
      },
      "image/png": "[encoded data removed]",
      "text/html": [
       "\n",
       "            <div style=\"display: inline-block;\">\n",
       "                <div class=\"jupyter-widgets widget-label\" style=\"text-align: center;\">\n",
       "                    Figure\n",
       "                </div>\n",
       "                <img src='data:image/png;base64,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' width=640.0/>\n",
       "            </div>\n",
       "        "
      ],
      "text/plain": [
       "Canvas(toolbar=Toolbar(toolitems=[('Home', 'Reset original view', 'home', 'home'), ('Back', 'Back to previous …"
      ]
     },
     "metadata": {},
     "output_type": "display_data"
    }
   ],
   "source": [
    "fig, (ax1) = plt.subplots(1,1)\n",
    "#first subplot: pdf\n",
    "pdf_val= norm.pdf(x, loc=mu, scale=sigma)\n",
    "#print(f'pdf of x is {pdf_val}')\n",
    "ax1.cla()               \n",
    "ax1.hist(simulated_values, density = True, bins=bin_edges)\n",
    "ax1.set_title('PDF of simulated\\n standard normal distribution')\n",
    "ax1.set_ylabel('Density')\n",
    "a= ax1.set_xlabel('X')\n"
   ]
  },
  {
   "cell_type": "code",
   "execution_count": 110,
   "id": "3a1f9502-4b37-46b6-88a4-2bdf776dd875",
   "metadata": {
    "slideshow": {
     "slide_type": "slide"
    },
    "tags": []
   },
   "outputs": [
    {
     "name": "stdout",
     "output_type": "stream",
     "text": [
      "mean = -0.05377315442397144,\n",
      "\n",
      "stderr of mean = 0.10516316385640201\n"
     ]
    }
   ],
   "source": [
    "# mean and standard error of the mean\n",
    "from scipy.stats import sem\n",
    "print(f'mean = {np.mean(simulated_values)},\\n\\nstderr of mean = {sem(simulated_values)}')"
   ]
  },
  {
   "cell_type": "code",
   "execution_count": 102,
   "id": "8630d047-3ded-4bc2-89ac-d137acc73f6a",
   "metadata": {
    "slideshow": {
     "slide_type": "slide"
    },
    "tags": []
   },
   "outputs": [],
   "source": [
    "#Plot of simulated and actual exponential distribution\n",
    "from scipy.stats import expon\n",
    "# for the exponential distribution, the scale is 1/lambda\n",
    "lambda_param = 3\n",
    "scale = 1/lambda_param\n",
    "nbins = 100\n",
    "bin_edges = np.linspace(0, expon.ppf(0.9999,  scale=scale), nbins)\n",
    "# center x in each bin so the pdf and the histogram will line up\n",
    "x = bin_edges+(bin_edges[1]-bin_edges[0])/2\n",
    "\n",
    "n_simulate = 1000000\n",
    "simulated_values = expon.rvs(scale=scale ,size=n_simulate)"
   ]
  },
  {
   "cell_type": "code",
   "execution_count": 103,
   "id": "0925a069-f401-4d9c-b57f-4ba990574939",
   "metadata": {
    "slideshow": {
     "slide_type": "slide"
    },
    "tags": []
   },
   "outputs": [
    {
     "data": {
      "application/vnd.jupyter.widget-view+json": {
       "model_id": "7de6215799394d058ce40df57470fca2",
       "version_major": 2,
       "version_minor": 0
      },
      "image/png": "[encoded data removed]",
      "text/html": [
       "\n",
       "            <div style=\"display: inline-block;\">\n",
       "                <div class=\"jupyter-widgets widget-label\" style=\"text-align: center;\">\n",
       "                    Figure\n",
       "                </div>\n",
       "                <img src='data:image/png;base64,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' width=640.0/>\n",
       "            </div>\n",
       "        "
      ],
      "text/plain": [
       "Canvas(toolbar=Toolbar(toolitems=[('Home', 'Reset original view', 'home', 'home'), ('Back', 'Back to previous …"
      ]
     },
     "metadata": {},
     "output_type": "display_data"
    }
   ],
   "source": [
    "fig, (ax1) = plt.subplots(1,1)\n",
    "#first subplot: pdf\n",
    "pdf_val= norm.pdf(x, loc=mu, scale=sigma)\n",
    "#print(f'pdf of x is {pdf_val}')\n",
    "ax1.cla()               \n",
    "ax1.hist(simulated_values, density = True, bins=bin_edges)\n",
    "ax1.set_title('PDF of simulated\\n exponential distribution')\n",
    "ax1.set_ylabel('Density')\n",
    "a= ax1.set_xlabel('X')"
   ]
  },
  {
   "cell_type": "markdown",
   "id": "662b5914-8cf0-43f2-a3d0-c7174713d0f6",
   "metadata": {
    "slideshow": {
     "slide_type": "slide"
    },
    "tags": []
   },
   "source": [
    "#### In practice\n",
    "\n",
    "##### First question: what do my data look like?\n",
    "\n",
    "- Always start by plotting your data\n",
    "\n",
    "    Histograms / smoothing\n",
    "    "
   ]
  },
  {
   "cell_type": "code",
   "execution_count": 23,
   "id": "68c34ec2-efe2-4dc4-9fac-adcb66ceb0b1",
   "metadata": {
    "slideshow": {
     "slide_type": "slide"
    },
    "tags": []
   },
   "outputs": [],
   "source": [
    "import numpy as np\n",
    "import scipy.ndimage as nd\n",
    "import matplotlib.pyplot as plt\n",
    "\n",
    "# Lecture 1 has examples of using histograms, here also show an alternative approach using smoothing\n",
    "from scipy.stats import norm\n",
    "\n",
    "mu = 0\n",
    "sigma = 1\n",
    "nbins_hist = 10\n",
    "nbins_smoothing = 1000\n",
    "x = np.linspace(norm.ppf(0.001, loc=mu, scale=sigma),\n",
    "                norm.ppf(0.999, loc=mu, scale=sigma), 1000)\n",
    "bin_edges = np.linspace(x[0]-.1, x[-1]+.1, nbins_hist)\n",
    "\n",
    "n_simulate = 200\n",
    "simulated_values = norm.rvs(loc=mu, scale=sigma ,size=n_simulate)\n",
    "\n",
    "# set the smoothing parameter for the gaussian smoothing\n",
    "sigma_smoothing=20"
   ]
  },
  {
   "cell_type": "code",
   "execution_count": 11,
   "id": "2225f1fa-ec32-43f1-a17b-74fb5ec421e4",
   "metadata": {
    "slideshow": {
     "slide_type": "slide"
    },
    "tags": []
   },
   "outputs": [
    {
     "data": {
      "text/plain": [
       "Text(0.5, 0, 'X')"
      ]
     },
     "execution_count": 11,
     "metadata": {},
     "output_type": "execute_result"
    },
    {
     "data": {
      "image/png": "[encoded data removed]",
      "text/plain": [
       "<Figure size 640x480 with 3 Axes>"
      ]
     },
     "metadata": {},
     "output_type": "display_data"
    }
   ],
   "source": [
    "\n",
    "fig, (ax1, ax2, ax3) = plt.subplots(1,3)\n",
    "#first subplot: pdf\n",
    "ax1.cla()\n",
    "ax1.hist(simulated_values, density = True, bins=bin_edges)\n",
    "ax1.set_title('Original histogram')\n",
    "ax1.set_ylabel('Density')\n",
    "ax1.set_xlabel('X')\n",
    "#second subplot: pdf with small bins. Note the use of np.histogram\n",
    "ax2.cla()\n",
    "counts, new_bins = np.histogram(simulated_values, density=True, bins=nbins_smoothing)\n",
    "ax2.stairs(counts, new_bins)\n",
    "ax2.set_title('Hist, small bins')\n",
    "ax2.set_xlabel('X')\n",
    "#third subplot: smoothed pdf\n",
    "ax3.cla()\n",
    "smoothed_data = nd.gaussian_filter1d(counts, sigma=sigma_smoothing)\n",
    "plt.plot(new_bins[:-1], smoothed_data)\n",
    "ax3.set_title('Smoothed hist')\n",
    "ax3.set_xlabel('X')"
   ]
  },
  {
   "cell_type": "markdown",
   "id": "4c3c4025-0211-4224-9ca7-5ff2d7b9e3d7",
   "metadata": {
    "slideshow": {
     "slide_type": "slide"
    },
    "tags": []
   },
   "source": [
    "##### If you can assume the data are from a gaussian distribution\n",
    "\n",
    "- See Vijay's notebook Power_and_errors.ipynb\n",
    " \n",
    " - common feature: Degrees of freedom\n",
    "\n",
    "    Given mean of m, how many of the n samples can be changed and still leave the statistic unaffected (n - 1 for mean)\n",
    "\n",
    " - additional important question: 1-tailed or 2-tailed test\n",
    "     If you have a strong prediction that an effect will go in a particular direction, 1 tailed can be appropriate, but 2 tailed is typically better.\n",
    "     Corresponds to whether one variable is only larger or smaller (1-tailed) or could be larger or smaller than another (2-tailed)"
   ]
  },
  {
   "cell_type": "markdown",
   "id": "73813c04-1c2f-42df-b202-eaebd0a0e49c",
   "metadata": {
    "slideshow": {
     "slide_type": "slide"
    },
    "tags": []
   },
   "source": [
    "#### T-tests\n",
    "\n",
    "**One sample** – comparison of mean to constant\n",
    "\n",
    "$ H_0 $ : the estimate of the mean is equal to the constant.\n",
    "\n",
    "$$ t=\\frac{\\bar{X}-c}{s_{\\bar{X}}} $$ \n",
    "           \n",
    "where c is the constant and $S_{\\bar{X}}$ is the standard error of the mean.\n",
    "\n",
    "We then look up the value of t for the number of degrees of freedom.\n",
    "\n",
    "scipy.stats.ttest_1sample\n"
   ]
  },
  {
   "cell_type": "markdown",
   "id": "e7e222b8-e252-4c80-8ad1-6a7ba99bc0c5",
   "metadata": {
    "slideshow": {
     "slide_type": "slide"
    },
    "tags": []
   },
   "source": [
    "**Confidence limits**\n",
    "\n",
    "Get values for t representing middle 95% of distribution\n",
    "\n",
    "\\begin{aligned}\n",
    "&-t_{0.05, v} \\leq \\frac{\\bar{X}-c}{s_{\\bar{X}}} \\leq t_{0.05, v}\\\\\n",
    "&95 \\% \\text { confidence bound: } \\bar{X}-s_{\\bar{X}} t_{0.05, v} \\leq c \\leq \\bar{X}+s_{\\bar{X}} t_{0.05, v}\n",
    "\\end{aligned}\n"
   ]
  },
  {
   "cell_type": "markdown",
   "id": "545f7572-ebfb-4858-ac0a-38ece79dbc36",
   "metadata": {
    "slideshow": {
     "slide_type": "slide"
    },
    "tags": []
   },
   "source": [
    "**Two sample**\n",
    "\n",
    "$ H_0 $ : the means of the two samples are not different.\n",
    "\n",
    "$$ \\begin{aligned}\n",
    "&t^{\\prime}=\\frac{\\overline{X_2}-\\overline{X_1}}{s_{\\overline{X_2}-\\overline{X_1}}} \\text { where } s_{\\overline{X_2}-\\overline{X_1}} \\text { is the standard error of the difference. }\\\\\n",
    "&\\begin{aligned}\n",
    "& \\operatorname{Var}\\left[\\overline{X_2}-\\overline{X_1}\\right]=\\operatorname{Var}\\left[\\overline{X_2}\\right]+\\operatorname{Var}\\left[\\overline{X_1}\\right]=\\frac{s_1^2}{n_1}+\\frac{s_2^2}{n_2} \\\\\n",
    "& s_{\\overline{X_2}-\\overline{X_1}}=\\sqrt{\\operatorname{Var}\\left[\\overline{X_2}-\\overline{X_1}\\right]}=\\sqrt{\\frac{s_1^2}{n_1}+\\frac{s_2^2}{n_2}}\n",
    "\\end{aligned}\n",
    "\\end{aligned}$$\n",
    "\n",
    "You need to specify whether the variances of the populatoins are equal:\n",
    "\n",
    "scipy.stats.ttest_ind(A, B, equal_var = True) or equal_var=False\n",
    "\n",
    "**Paired**\n",
    "\n",
    "Just like the one sample version, but where the measurements is the differences bewteen the pairs of samples"
   ]
  },
  {
   "cell_type": "markdown",
   "id": "0c00dc99-b247-42cd-91d8-5786f22821e3",
   "metadata": {
    "slideshow": {
     "slide_type": "slide"
    },
    "tags": []
   },
   "source": [
    "#### Testing for equality of variance\n",
    "\n",
    "$$ F=\\arg \\max \\left(\\frac{s_1^2}{s_2^2}, \\frac{s_2^2}{s_1^2}\\right) $$\n",
    "\n",
    "Python: scipy.stats.flinger (or levene; see documentation)\n"
   ]
  },
  {
   "cell_type": "markdown",
   "id": "a8bc626f-8f46-48ff-98ca-1ac009cf0488",
   "metadata": {
    "slideshow": {
     "slide_type": "slide"
    },
    "tags": []
   },
   "source": [
    "#### ANOVA\n",
    "\n",
    "For \\> 2 groups\n",
    "\n",
    "Assumptions\n",
    "\n",
    "        1.  Normality (but fairly robust to this)\n",
    "\n",
    "        2.  Homogeneity of variance (not as robust to this)\n",
    "\n",
    "        3.  Independence of observations (only permutation tests robust to this)\n",
    "\n",
    "Important to keep family-wise error rate down (the probability that results occurred by chance)."
   ]
  },
  {
   "cell_type": "markdown",
   "id": "dd302809-2509-48b0-bb94-faa70c909de2",
   "metadata": {
    "slideshow": {
     "slide_type": "slide"
    },
    "tags": []
   },
   "source": [
    "**Example**\n",
    "\n",
    "Suppose we have three groups \n",
    "\n",
    "We measure the means of these groups to be \n",
    "\n",
    "$$ \\bar{X_1}, \\bar{X_2}, \\bar{X_3} $$\n",
    "\n",
    "\n"
   ]
  },
  {
   "cell_type": "markdown",
   "id": "bc7bcd15-7a63-4469-a96c-0a7a8875f433",
   "metadata": {
    "slideshow": {
     "slide_type": "slide"
    },
    "tags": []
   },
   "source": [
    "We can calculate the total mean as \n",
    "\n",
    "$$\n",
    "\\bar{X}_{\\text {total }}=\\frac{\\bar{X}_1+\\bar{X}_2+\\bar{X}_3}{3}\n",
    "$$\n",
    "\n",
    "and the variance of the mean as\n",
    "\n",
    "$$\n",
    "s_{\\bar{X}}^2=\\frac{\\sum_k\\left(\\bar{X}_k-\\bar{X}_{\\text {total |}}\\right)^2}{k-1}\n",
    "$$\n",
    "\n",
    "Note the use of k-1 instead of k."
   ]
  },
  {
   "cell_type": "markdown",
   "id": "a69712ef-b407-434a-80c9-8a2d9e819a9e",
   "metadata": {
    "slideshow": {
     "slide_type": "slide"
    },
    "tags": []
   },
   "source": [
    "\n",
    "Now we can move on to the hypothesis test. If the three groups come from the same distribution,\n",
    "\n",
    "$$ \\sigma_1^2 = \\sigma_2^2 = \\sigma_3^2 = \\sigma_e^2  $$\n",
    "\n",
    "We can estimate $ \\sigma_e^2 $ in two different ways. \n",
    "First, \n",
    "\n",
    "$$ \\sigma_3^2 = \\frac{\\sigma_1^2 + \\sigma_2^2 + \\sigma_3^2}{3}  $$"
   ]
  },
  {
   "cell_type": "markdown",
   "id": "5a9599dc-4856-4d05-93a4-71e18e30baae",
   "metadata": {
    "jp-MarkdownHeadingCollapsed": true,
    "slideshow": {
     "slide_type": "slide"
    },
    "tags": []
   },
   "source": [
    "Second, \n",
    "\n",
    "$$ \\frac{\\sigma_e^2}{n} = s_{\\bar{X}}^2 \\text{ so } \\sigma_e^2 = ns_{\\bar{X}}^2 $$\n",
    "\n",
    "We can then use the F test described above to compare the two estimates of variance to see if they are equal.\n",
    "\n",
    "For a one way anova (comparison among n separate groups): scipy.stats.f_oneway\n",
    "For multiple levels (e.g. comparisons across 2 or more different dimensions (e.g. sex, treatment): statsmodels\n"
   ]
  },
  {
   "cell_type": "markdown",
   "id": "3c2af0d0-2022-42ba-9e46-bd10516c59e2",
   "metadata": {
    "slideshow": {
     "slide_type": "slide"
    },
    "tags": []
   },
   "source": [
    "#### Multiple comparisons (after anova)\n",
    "\n",
    "- Often desirable to identify significant differences between\n",
    "        individual groups without increasing family-wise error rate\n",
    "\n",
    "-  Types\n",
    "\n",
    "        1.  Tukey-Kramer\n",
    "\n",
    "            Order means, compare groups\n",
    "\n",
    "        2.  Scheffé test\n",
    "\n",
    "            Compare any arithmetic combination of means\n"
   ]
  },
  {
   "cell_type": "markdown",
   "id": "dec1beeb-6d03-4a0e-9eae-f142ad1235cc",
   "metadata": {
    "slideshow": {
     "slide_type": "slide"
    },
    "tags": []
   },
   "source": [
    "#### Linear Mixed Effects Models\n",
    "\n",
    "Often in neuroscience we collect multiple data points from individual subjects, and we should keep subject identity as a covariate. Linear mixed effect models allow you to do so (see future lecture from Vijay)"
   ]
  },
  {
   "cell_type": "markdown",
   "id": "b27bfd4a-93e8-47fc-8e99-4ef7a4bfb130",
   "metadata": {
    "slideshow": {
     "slide_type": "slide"
    },
    "tags": []
   },
   "source": [
    "### Hypothesis testing – non-gaussian data"
   ]
  },
  {
   "cell_type": "markdown",
   "id": "6e4a6da3-0e8d-4ca8-9a8f-6440c1308dab",
   "metadata": {
    "slideshow": {
     "slide_type": "subslide"
    },
    "tags": []
   },
   "source": [
    "#### Comparison of proportions"
   ]
  },
  {
   "cell_type": "markdown",
   "id": "5ad07311-6691-4bfe-8b05-ea478103b167",
   "metadata": {
    "slideshow": {
     "slide_type": "subslide"
    },
    "tags": []
   },
   "source": [
    "**Z-test for proportions**\n",
    "\n",
    "Compare observed proportion to hypothesized proportion if $ np $ and  $ n(1-p) \\ge 10 $\n",
    "\n",
    "Use binomial probability model, compute standard error\n",
    "    \n",
    "$$ \\sqrt{\\frac{p(1-1)}n} $$\n",
    "    \n",
    "Then compute \n",
    "\n",
    "$$ z = \\frac{p_{observed} - p_{predicted}}{\\sqrt{\\frac{p_{predicted}(1- p_{predicted})}{n}}} $$ \n",
    "\n",
    "scipy.stats.norm.sf(abs(Z_value)) gives the one-tailed probability of a value more extreme than the one measured.\n",
    "\n"
   ]
  },
  {
   "cell_type": "markdown",
   "id": "bbbe9ba8-1316-4a14-8a89-52a0bfa570a5",
   "metadata": {
    "slideshow": {
     "slide_type": "slide"
    },
    "tags": []
   },
   "source": [
    "\n",
    "**Z-test for two proportions**\n",
    "\n",
    "$ H_0 $ : both sets of data came from the same distribution with underlying probability of success p; same constratins on $ n $ as above\n",
    "\n",
    "We can then estimate that p as \n",
    "$$ p_{total} = \\frac{n_1p_1 + n_2p_2}{n_1 + n_2} $$\n",
    "\n",
    "For the binomial the standard error of the mean is \n",
    "$$ {\\sqrt{\\frac{p_{total}(1- p_{total})}{n}}} $$ \n",
    "\n",
    "We can therefore compute \n",
    "$$ z = \\frac{p_{1} - p_{2}}{\\sqrt{\\frac{p_{total}(1- p_{total})}{n}}} $$ \n",
    "\n",
    "And look up the p-value for that value of z"
   ]
  },
  {
   "cell_type": "code",
   "execution_count": 24,
   "id": "d25daef3-97b6-4205-8832-87e698ad041a",
   "metadata": {},
   "outputs": [
    {
     "name": "stdout",
     "output_type": "stream",
     "text": [
      "z-statistic: -1.9802950859533488\n",
      "p-value: 0.04767038065616141\n"
     ]
    }
   ],
   "source": [
    "# Z = test code; user needs to specify x1, n1, x2, and n2\n",
    "import numpy as np\n",
    "from statsmodels.stats.proportion import proportions_ztest\n",
    "x1 = 10\n",
    "x2 = 20\n",
    "n1 = 100\n",
    "n2 = 100\n",
    "# Success counts in each group\n",
    "success_counts = np.array([x1, x2])\n",
    "# Total observations in each group\n",
    "total_counts = np.array([n1, n2])\n",
    "# Perform the test\n",
    "z_stat, p_value = proportions_ztest(count=success_counts, nobs=total_counts, alternative='two-sided')\n",
    "print('z-statistic:', z_stat)\n",
    "print('p-value:', p_value)"
   ]
  },
  {
   "cell_type": "markdown",
   "id": "5d500052-b7c3-4c04-b8f4-630fbde1a892",
   "metadata": {},
   "source": [
    "#### Comparisons between two groups\n"
   ]
  },
  {
   "cell_type": "markdown",
   "id": "ee2fa0e2-d7f9-4c28-a8ec-b0b224935fc8",
   "metadata": {
    "slideshow": {
     "slide_type": "slide"
    },
    "tags": []
   },
   "source": [
    "**Sign test**\n",
    "\n",
    "Based on binomial distribution\n",
    "\n",
    "    Asks whether values in group A are or are not consistently lower or higher than values from group B\n",
    "\n",
    "Python: statsmodels.stats.descriptivestats.sign_test\n",
    "\n",
    "**Wilcoxon signed-rank test**\n",
    "\n",
    "Used for paired samples\n",
    "\n",
    "    Tests for differences in median between groups\n",
    "\n",
    "Python: scipy.stats.wilcoxon"
   ]
  },
  {
   "cell_type": "markdown",
   "id": "129d0293-94cd-4fc6-b12e-4f5cfbd98f31",
   "metadata": {
    "slideshow": {
     "slide_type": "slide"
    },
    "tags": []
   },
   "source": [
    "\n",
    "\n",
    " \n",
    "**Kolmogorov-Smirnov test**\n",
    "\n",
    "Test distribution of data against either known CDF or another CDF\n",
    "\n",
    "Compares CDFs of functions and finds point of maximum distance D, returns probability of that distance \n",
    "\n",
    "Python: scipy.stats.kstest or scipy.stats.ks_2samp\n",
    "\n",
    "*Important note: a significant difference from a KS test only allows you to conclude that the distributions are different, not than the means or medians or any other feature are different.*\n"
   ]
  },
  {
   "cell_type": "markdown",
   "id": "74f5d820-8492-4483-8fde-9fdc8bcb3abb",
   "metadata": {
    "slideshow": {
     "slide_type": "slide"
    },
    "tags": []
   },
   "source": [
    "#### Comparisons among more than 2 groups\n",
    "\n",
    "**Non-parametric ANOVA**\n",
    "\n",
    "    Kruskal-Wallis – ANOVA based on ranks of data\n",
    "\n",
    "    Friedman – Two way ANOVA based on ranks of data\n",
    "\n",
    "Python: scipy.stats.kruskal, scipy.stats.friedmanchisquare\n",
    "\n"
   ]
  },
  {
   "cell_type": "markdown",
   "id": "57050584-a51d-43b9-a82d-491858442a6e",
   "metadata": {
    "slideshow": {
     "slide_type": "slide"
    },
    "tags": []
   },
   "source": [
    "**Chi-squared**\n",
    "\n",
    "Comparison of count data across groups and conditions\n",
    "\n",
    "Build contingency table\n",
    "\n",
    "|        | Mutant | Control |\n",
    "|--------|--------|---------|\n",
    "| Male   | 5      | 10      |\n",
    "| Female | 10     | 5       |"
   ]
  },
  {
   "cell_type": "markdown",
   "id": "bd5b97df-4517-448e-be41-c24cd37dfd1d",
   "metadata": {
    "slideshow": {
     "slide_type": "slide"
    },
    "tags": []
   },
   "source": [
    "Using a null hypothesis, compute number expected as the marginal\n",
    "total of each row times the marginal total of each column divided by\n",
    "the total number\n",
    "\n",
    "|        | Mutant | Control | Totals |\n",
    "|--------|--------|---------|--------|\n",
    "| Male   | 5      | 10      | 15     |\n",
    "| Female | 10     | 5       | 15     |\n",
    "| Totals | 15     | 15      | 30     |\n",
    "\n",
    "| Expected | Mutant | Control |\n",
    "|----------|--------|---------|\n",
    "| Male     | 7.5    | 7.5     |\n",
    "| Female   | 7.5    | 7.5     |"
   ]
  },
  {
   "cell_type": "markdown",
   "id": "52b5da38-2835-42fc-8003-29c75f07878e",
   "metadata": {},
   "source": [
    "\n",
    "\n",
    "Compute chi-square statistic\n",
    "\n",
    "$$ \\chi^2=\\sum_{i=1}^n \\sum_{j=1}^m \\frac{\\left(f_{i j}-\\hat{f}_{i j}\\right)^2}{\\hat{f}_{i j}} $$\n",
    "\n",
    "where $ f_{i j} $ is the number observed and $ \\hat{f}_{i j} $ is the number expected.\n",
    "\n",
    "Python: scipy.stats.chisquare"
   ]
  },
  {
   "cell_type": "markdown",
   "id": "6c355b2a-e44a-476a-84d5-ee5159302697",
   "metadata": {
    "slideshow": {
     "slide_type": "slide"
    },
    "tags": []
   },
   "source": [
    "#### Circular Statistics\n",
    "\n",
    "Data distributed around a circle\n",
    "\n",
    "    Movement direction\n",
    "\n",
    "    Spiking in relation to a rhythm\n"
   ]
  },
  {
   "cell_type": "markdown",
   "id": "2477bf3c-73a6-4891-8d17-06822dbc3b8e",
   "metadata": {
    "slideshow": {
     "slide_type": "slide"
    },
    "tags": []
   },
   "source": [
    "**Measures**\n",
    "\n",
    "Mean angle of $ a_1, a_2, \\ldots, a_n $\n",
    "\n",
    "$$\n",
    "\\begin{aligned}\n",
    "& X=\\frac{\\sum_{i=1}^n \\cos \\left(a_i\\right)}{n}, Y=\\frac{\\sum_{i=1}^n \\sin \\left(a_i\\right)}{n} \\\\\n",
    "& \\bar{a}=\\tan ^{-1}(Y / X)\n",
    "\\end{aligned}\n",
    "$$\n",
    "\n",
    "This can also be expressed using complex numbers:\n",
    "\n",
    "$$\n",
    "\\operatorname{Arg}\\left(\\frac{1}{n} \\sum_{k=1}^n e^{i x_k}\\right)\n",
    "$$\n",
    "\n",
    "where $ \\operatorname{Arg} $ corresponds to computing the resulting angle \n",
    "\n",
    "scipy.stats.circmean"
   ]
  },
  {
   "cell_type": "markdown",
   "id": "3b57b92a-5f08-457e-aa3c-7512d479f229",
   "metadata": {
    "slideshow": {
     "slide_type": "slide"
    },
    "tags": []
   },
   "source": [
    "\n",
    "Angular dispersion\n",
    "\n",
    "$$ r = \\sqrt{X^2 + Y^2}, 0 \\le r \\le 1 $$\n",
    "\n",
    "Circular variance\n",
    "\n",
    "$$ S^2 = 1-r $$\n",
    "\n",
    "or \n",
    "\n",
    "$$\n",
    "S^2 =1-\\left|\\frac{1}{n} \\sum_{k=1}^n e^{i x_k}\\right|\n",
    "$$"
   ]
  },
  {
   "cell_type": "code",
   "execution_count": 57,
   "id": "ad8257e8-c47b-4537-a950-947dc285e96e",
   "metadata": {},
   "outputs": [],
   "source": [
    "#plotting and computing things for circular distributions\n",
    "import numpy as np\n",
    "import scipy.stats as stats\n",
    "\n",
    "# Set the parameters of the von Mises distribution\n",
    "mu = np.pi/2  # Mean direction (in radians)\n",
    "kappa = 1  # Concentration parameter\n",
    "\n",
    "# Generate 1000 samples from the distribution\n",
    "samples = stats.vonmises.rvs(kappa, loc=mu, size=1000)"
   ]
  },
  {
   "cell_type": "code",
   "execution_count": 61,
   "id": "0e319ee9-c069-47b3-99fa-ce95c6f81e46",
   "metadata": {},
   "outputs": [],
   "source": [
    "def format_radians_label(float_in):\n",
    "    # Converts a float value in radians into a\n",
    "    # string representation of that float\n",
    "    string_out = str(float_in / (np.pi))+\"π\"\n",
    "    \n",
    "    return string_out\n",
    "\n",
    "def convert_polar_xticks_to_radians(ax):\n",
    "    # Converts x-tick labels from degrees to radians   \n",
    "    # Get the x-tick positions (returns in radians)\n",
    "    label_positions = ax.get_xticks()    \n",
    "    # Convert to a list since we want to change the type of the elements\n",
    "    labels = list(label_positions)    \n",
    "    # Format each label (edit this function however you'd like)\n",
    "    labels = [format_radians_label(label) for label in labels]\n",
    "    ax.set_xticks(label_positions)\n",
    "    ax.set_xticklabels(labels)"
   ]
  },
  {
   "cell_type": "code",
   "execution_count": 93,
   "id": "8140727e-37a2-4008-8d49-fa744181f162",
   "metadata": {},
   "outputs": [
    {
     "data": {
      "text/plain": [
       "Text(0.5, 0, 'Radians')"
      ]
     },
     "execution_count": 93,
     "metadata": {},
     "output_type": "execute_result"
    },
    {
     "data": {
      "image/png": "[encoded data removed]",
      "text/plain": [
       "<Figure size 640x480 with 2 Axes>"
      ]
     },
     "metadata": {},
     "output_type": "display_data"
    }
   ],
   "source": [
    "#two options for plotting:\n",
    "fig = plt.figure()\n",
    "ax1 = plt.subplot(121)\n",
    "ax2 = plt.subplot(122, projection='polar')\n",
    "#1. standard histogram\n",
    "bins = np.linspace(-np.pi, np.pi, 50)\n",
    "(counts,b,bars) = ax1.hist(samples, bins=bins)\n",
    "ax1.set_title('histogram of counts')\n",
    "ax1.set_xlabel('Radians')\n",
    "ax1.set_ylabel('Counts')\n",
    "#2 polar plot\n",
    "(counts,b,bars) = ax2.hist(samples, bins=bins)\n",
    "convert_polar_xticks_to_radians(ax2)\n",
    "ax2.set_title('polar histogram of counts', y=1.2)\n",
    "ax2.set_xlabel('Radians')\n"
   ]
  },
  {
   "cell_type": "markdown",
   "id": "d9eebca5-fd7b-40e8-99c6-f2a438972264",
   "metadata": {
    "slideshow": {
     "slide_type": "slide"
    },
    "tags": []
   },
   "source": [
    "#### Hypothesis testing\n",
    "\n",
    " - Rayleigh test\n",
    " \n",
    "     Tests for uniformity of angular distribution\n",
    "\n",
    "- Watson Williams test\n",
    "\n",
    "      Compares the means of two angular distributions\n",
    "      \n",
    "https://github.com/circstat/pycircstat \n",
    " \n",
    "\n",
    " - Watson U test\n",
    "\n",
    "      Compares CDFs of angular distributions\n",
    "     \n",
    "\n",
    "https://github.com/pierremegevand/watsons_u2\n",
    "\n",
    " "
   ]
  }
 ],
 "metadata": {
  "kernelspec": {
   "display_name": "Python 3 (ipykernel)",
   "language": "python",
   "name": "python3"
  },
  "language_info": {
   "codemirror_mode": {
    "name": "ipython",
    "version": 3
   },
   "file_extension": ".py",
   "mimetype": "text/x-python",
   "name": "python",
   "nbconvert_exporter": "python",
   "pygments_lexer": "ipython3",
   "version": "3.11.11"
  }
 },
 "nbformat": 4,
 "nbformat_minor": 5
}
