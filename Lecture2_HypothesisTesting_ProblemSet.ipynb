{
 "cells": [
  {
   "cell_type": "markdown",
   "id": "52b41586-4649-4b0e-9bb8-a152e78379ff",
   "metadata": {},
   "source": [
    "### NS 248 Problem Set 2 – Hypothesis Testing\n",
    "\n"
   ]
  },
  {
   "cell_type": "markdown",
   "id": "d22db7f7-e770-4727-8747-9444b4c75863",
   "metadata": {},
   "source": [
    "1\\. Write a function that generates a gaussian distribution given three\n",
    "inputs: 1) the x coordinates for the points to be returned, 2) the mean\n",
    "and 3) the standard deviation.\n",
    "\n",
    "e.g. f = gaussian(xvals, mean, stdev)\n",
    "\n",
    "Use this function to generate a gaussian from -6 to 6 with 10000 points,\n",
    "a mean of 0 and a standard deviation of 1. Plot the CDF of this\n",
    "distribution and use the CDF to estimate the probability that a random\n",
    "draw from this gaussian distribution would be\n",
    "\n",
    "a\\. 1 standard deviation or more from the mean.\n",
    "\n",
    "b\\. 2 standard deviations or more from the mean.\n",
    "\n",
    "c\\. 3 standard deviations or more from the mean."
   ]
  },
  {
   "cell_type": "code",
   "execution_count": null,
   "id": "53deb538-8969-4397-9cbe-3dda37625f77",
   "metadata": {},
   "outputs": [],
   "source": [
    "#code here"
   ]
  },
  {
   "cell_type": "markdown",
   "id": "4d1093c9-392e-41b3-8e54-c4ed16a1b808",
   "metadata": {},
   "source": [
    "2\\. Generate 1000 random draws from the gaussian distribution you\n",
    "generated in question 2 using its CDF and uniform random numbers between\n",
    "0 and 1. Verify the answers to 2a, b and c. Suggestion: Write a general\n",
    "purpose random draw function that takes as its input a CDF and the\n",
    "number of points to draw."
   ]
  },
  {
   "cell_type": "code",
   "execution_count": null,
   "id": "ed6b54ab-cd59-43ae-9bbf-37f22a6c7441",
   "metadata": {},
   "outputs": [],
   "source": [
    "#code here"
   ]
  },
  {
   "cell_type": "markdown",
   "id": "72b00ecd-2d84-4913-a62c-21a36f936eb1",
   "metadata": {
    "tags": []
   },
   "source": [
    "3\\. Suppose you are performing a behavioral experiment where you measure\n",
    "the amount of time it takes for two groups of mice (wild-type and\n",
    "knockout) to find the hidden platform in a Morris Water Maze. Assume\n",
    "that you have 10 mice in each group and that after learning the escape\n",
    "latency is distributed as a gaussian.\n",
    "\n",
    "a\\. If the actual standard deviations are 10 seconds for both groups, the actual mean time for group 1 is 20 seconds and the actual mean time for group 2 is 30 seconds, what is the probability that you will detect the difference between the groups? The easiest way to do this is to simulate the data and see how often the differences come out significant."
   ]
  },
  {
   "cell_type": "code",
   "execution_count": null,
   "id": "df56ad6e-2459-4c7a-9b35-146c3b51a5ad",
   "metadata": {},
   "outputs": [],
   "source": [
    "#code here"
   ]
  },
  {
   "cell_type": "markdown",
   "id": "22aa70cf-45b2-4d23-beb2-4bb52163a0bd",
   "metadata": {
    "tags": []
   },
   "source": [
    "b\\. Suppose that the two populations are actually identical, and that both have a mean time of 25 seconds and a standard deviation of 10.\n",
    "Simulate the experiment 1000 times (e.g. do random draws to get a set of times for each group) and determine how often a two sample t-test returns a significance result at the default significance level. How is that number of incorrect outcomes related to the significance level?\n"
   ]
  },
  {
   "cell_type": "code",
   "execution_count": null,
   "id": "b59f0589-f191-4498-9105-408e36396215",
   "metadata": {},
   "outputs": [],
   "source": [
    "#code here"
   ]
  },
  {
   "cell_type": "markdown",
   "id": "d37983ab-4b6a-47f9-a832-fc4284db7386",
   "metadata": {},
   "source": [
    "c\\. Suppose you were testing four pairs of groups (where each pair is\n",
    "independent and separate from the other pairs) with 10 mice each. What\n",
    "is the probability that one or more of the four tests would result in\n",
    "a significant difference at the p \\< 0.05 level?"
   ]
  },
  {
   "cell_type": "code",
   "execution_count": 3,
   "id": "afcfc23b-3158-4a34-ba07-181e83aa63b1",
   "metadata": {},
   "outputs": [],
   "source": [
    "#code here"
   ]
  }
 ],
 "metadata": {
  "kernelspec": {
   "display_name": "Python 3 (ipykernel)",
   "language": "python",
   "name": "python3"
  },
  "language_info": {
   "codemirror_mode": {
    "name": "ipython",
    "version": 3
   },
   "file_extension": ".py",
   "mimetype": "text/x-python",
   "name": "python",
   "nbconvert_exporter": "python",
   "pygments_lexer": "ipython3",
   "version": "3.11.11"
  }
 },
 "nbformat": 4,
 "nbformat_minor": 5
}
