{
 "cells": [
  {
   "cell_type": "markdown",
   "id": "6df8c57c-c6cb-4611-a9fe-76def7e3004a",
   "metadata": {
    "tags": []
   },
   "source": [
    "NS 248 Problem Set 1 - Probability\n",
    "\n",
    "1\\. Suppose you have three neurons, A, B and C. A and B fire\n",
    "independently, but both are connected to C. The probability that A fires\n",
    "in a second is 0.1. The probability that B fires in a second is 0.4. If\n",
    "only A (e.g. A but not B) fires the probability that C will fire is 0.5.\n",
    "If only B fires the probability the C fires is 0.2. If both A and B\n",
    "fire, the probability that C fires is 1. C only fires when it receives a\n",
    "spike from A or B. For the questions below, calculate the probabilities\n",
    "for a single second.\n",
    "\n",
    "a\\. If you observe a spike from C, what is the probability that A fired?\n",
    "\n",
    "b\\. If you observe a spike from C, what is the probability that B fired?\n",
    "\n",
    "c\\. If you observe a spike from C, what is the probability that both A\n",
    "and B fired?\n",
    "\n",
    "d\\. If you observe a spike from C, what is the probability that A\n",
    "fired but B did not fire?\n",
    "\n",
    "e\\. If you observe a spike from C, what is the probability that B\n",
    "fired but A did not fire?\n",
    "\n"
   ]
  },
  {
   "cell_type": "code",
   "execution_count": null,
   "id": "2a5ad313-6d81-4b41-95ac-b23af75dd231",
   "metadata": {},
   "outputs": [],
   "source": [
    "#answers here"
   ]
  },
  {
   "cell_type": "markdown",
   "id": "ca56b5e5-c388-4dc7-817f-c990ca076c77",
   "metadata": {
    "tags": []
   },
   "source": [
    "2\\. Using python, code up a simulation of the network from\n",
    "problem 1 and run the simulation 10000 times, keeping track of which\n",
    "neurons fire during each run.\n",
    "\n",
    "a\\. Verify your answers to problem 1 with the simulation.\n",
    "\n",
    "b\\. Determine how the similarity in answers between 1a. and the\n",
    "simulation for 1a depends on the number of simulation runs. To do so,\n",
    "run the simulation 1, 10, 100, 1000, 10000 and 100000 times and plot\n",
    "the error (the difference between the simulated and calculated values)\n",
    "for each set of runs.\n",
    "\n"
   ]
  },
  {
   "cell_type": "code",
   "execution_count": 2,
   "id": "0fd201b9-6954-47ae-9b46-882a7d8f9325",
   "metadata": {},
   "outputs": [
    {
     "data": {
      "text/plain": [
       "0.5043492993668851"
      ]
     },
     "execution_count": 2,
     "metadata": {},
     "output_type": "execute_result"
    }
   ],
   "source": [
    "#answers here\n",
    "\n",
    "#Option 1 for 2a\n",
    "import numpy as np\n",
    "np.random.random_sample() \n",
    "# will return a uniform random number between 0 and 1, and you can use use a sequence of calls to \n",
    "# determine whether neurons A, B and C are active in each run. \n",
    "# Note that you could also do a single call to np.random.random_sample() for each neuron, which would be much faster.\n",
    "\n",
    "# Option 2 for 2a: look at the simulations from the lecture and use scipy.stats.uniform() instead...\n",
    "\n",
    "\n",
    "\n",
    "\n",
    "# For part b, you'll need to come up with an error metric. This might be the absolute value of the differences in probabilities between the calculations \n",
    "# and the simulations, but other error metrics are also possible (e.g. squared differences, etc.)"
   ]
  },
  {
   "cell_type": "markdown",
   "id": "63052fbe-8236-435e-a82f-dd5d8486458f",
   "metadata": {},
   "source": [
    "3\\. Load the data from PS1_Problem3_Data.txt. There are two columns of\n",
    "data. The first is the stimulus condition (1 or 2) and the second is the\n",
    "number of spikes that a (simulated) neuron fired in response to that\n",
    "stimulus. There are 200 trials for each stimulus, and the stimuli are\n",
    "presented in an interleaved fashion, so there are an equal number of presentations of each stimulus\n",
    "\n",
    "a. Plot a histogram of the number of spikes for s1 on each trial for\n",
    "each stimulus One way to do this is to use a single plot with two bar\n",
    "graphs, one for stimulus 1 in red and one for stimulus 2 in blue. Put\n",
    "a bin center every count up to 100 (e.g. use a list all integers from\n",
    "0 to 100 to specify the locations of the bin centers or a list of 0.5,\n",
    "1.5, etc. to specify bin edges.)\n",
    "\n",
    "b\\. Make another set of histograms with bins every 5 counts, \\[0,5,10,..., 100\\] for bin centers.\n",
    "\n",
    "c\\. Plot the pdf and the cdf for stimulus 1 and for stimulus 2 (four\n",
    "plots total). How are the pdfs related to the histograms from a.?\n",
    "\n",
    "d\\. Suppose you were told that neuron 1 fired 52 spikes in a\n",
    "particular trial. Use Bayes’ rule to determine the probability that\n",
    "stimulus 1 was on for that trial using a scheme based on the 1 count\n",
    "bin size (histograms from a.)\n",
    "\n",
    "e\\. Repeat with a scheme based on the 5 count bin size (histograms\n",
    "from b). Which of these two estimates is likely to be closer to the\n",
    "true value and why?"
   ]
  },
  {
   "cell_type": "code",
   "execution_count": null,
   "id": "19f2b193-a2ca-47ee-b302-9c4881e9ea69",
   "metadata": {},
   "outputs": [],
   "source": [
    "#answers here"
   ]
  }
 ],
 "metadata": {
  "kernelspec": {
   "display_name": "Python 3 (ipykernel)",
   "language": "python",
   "name": "python3"
  },
  "language_info": {
   "codemirror_mode": {
    "name": "ipython",
    "version": 3
   },
   "file_extension": ".py",
   "mimetype": "text/x-python",
   "name": "python",
   "nbconvert_exporter": "python",
   "pygments_lexer": "ipython3",
   "version": "3.9.16"
  }
 },
 "nbformat": 4,
 "nbformat_minor": 5
}
