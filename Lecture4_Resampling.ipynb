{
 "cells": [
  {
   "cell_type": "markdown",
   "id": "9465f33f-77d4-461a-8a6e-ac8293055b12",
   "metadata": {
    "slideshow": {
     "slide_type": "slide"
    },
    "tags": []
   },
   "source": [
    "## NS248 Lecture 4 – Resampling methods (Bootstrap and Permutation tests)\n",
    "\n",
    "Suggested reading:  Book ch. 10, Jonathan Pillow Lecture 21.\n",
    "\n",
    "There are also many, many descriptions of these methods online.\n"
   ]
  },
  {
   "cell_type": "markdown",
   "id": "3edf534c-5a56-4a04-903b-2889c0b44a77",
   "metadata": {
    "slideshow": {
     "slide_type": "subslide"
    },
    "tags": []
   },
   "source": [
    "Problem: How do we estimate uncertainty when we do not have access to the underlying distribution(s) that generated the data? \n",
    "\n",
    "1. Anytime we compute a statistic (mean, median, variance, etc.) we also want to know how sure we are about the value of that statistic.\n",
    "2. If we are not sure that a Gaussian approximation is a good idea (e.g. the data are complicated) then we want to consider a different approach.\n"
   ]
  },
  {
   "cell_type": "markdown",
   "id": "a06bc1b0-8984-42bb-8f5a-8636a6ff5eed",
   "metadata": {
    "slideshow": {
     "slide_type": "slide"
    },
    "tags": []
   },
   "source": [
    "### Bootstrapping:\n",
    "  Use variability in the data to estimate the variability in the statistic.\n",
    "\n",
    "Procedure for a single dataset:\n",
    "1. Start with a dataset of n data points $ X={x_1,x_2,\\ldots,x_n} $\n",
    "2. Choose an $ f(X) $ that you want to calculate (e.g. mean, median, etc.).\n",
    "3. Randomly sample n points from $ X $ with replacement to get a new set of point $ X_{n_{1}} $\n",
    "4. Compute $f(X_{n_{1}}) $\n",
    "5. Repeat 3 & 4 many times (1000s) to get $ \\{ f_{1}(X_{n_{1}}), f_{2}(X_{n_{2}}), ... \\} $\n",
    "6. Compute confidence bounds as the (for example) 2.5th and 97.5th percentiles of the distribution of $ f_{i}(X_{n_{i}}) $\n",
    "\n"
   ]
  },
  {
   "cell_type": "markdown",
   "id": "e915490e-bd4e-4f02-b2d1-50ab67c910ba",
   "metadata": {
    "slideshow": {
     "slide_type": "subslide"
    },
    "tags": []
   },
   "source": [
    "#### Python example"
   ]
  },
  {
   "cell_type": "markdown",
   "id": "5e305e7f-149c-41f1-96a2-a7665c1b3186",
   "metadata": {
    "slideshow": {
     "slide_type": "subslide"
    },
    "tags": []
   },
   "source": [
    "Let's start with data from a uniform distribution where we know that the mean should be 0.5:"
   ]
  },
  {
   "cell_type": "code",
   "execution_count": 41,
   "id": "a980c70a-bb47-40f5-baf9-8e6abb79a113",
   "metadata": {
    "slideshow": {
     "slide_type": "slide"
    },
    "tags": []
   },
   "outputs": [
    {
     "name": "stdout",
     "output_type": "stream",
     "text": [
      "mean of data: 0.5044983396940899\n"
     ]
    }
   ],
   "source": [
    "import numpy as np\n",
    "import random\n",
    "n_data_points = 20\n",
    "data = np.random.uniform(low=0.0, high=1.0, size=n_data_points)\n",
    "print(f'mean of data: {np.mean(data)}')"
   ]
  },
  {
   "cell_type": "markdown",
   "id": "a496c3e8-58b8-4e3b-92b7-e2232cd42fc9",
   "metadata": {
    "slideshow": {
     "slide_type": "subslide"
    },
    "tags": []
   },
   "source": [
    "We always want to plot our data to make sure it looks reasonable, so we make a quick histogram:"
   ]
  },
  {
   "cell_type": "code",
   "execution_count": 42,
   "id": "85c805cd-0b0d-4d7f-aa12-77351e7f63a1",
   "metadata": {
    "slideshow": {
     "slide_type": "slide"
    },
    "tags": []
   },
   "outputs": [
    {
     "data": {
      "text/plain": [
       "Text(0, 0.5, 'Count')"
      ]
     },
     "execution_count": 42,
     "metadata": {},
     "output_type": "execute_result"
    },
    {
     "data": {
      "image/png": "[encoded data removed]",
      "text/plain": [
       "<Figure size 640x480 with 1 Axes>"
      ]
     },
     "metadata": {},
     "output_type": "display_data"
    }
   ],
   "source": [
    "import matplotlib.pyplot as plt\n",
    "plt.hist(data)\n",
    "plt.xlabel('Value')\n",
    "plt.ylabel('Count')"
   ]
  },
  {
   "cell_type": "markdown",
   "id": "50b2c8fd-4719-4a6c-9bc8-8d195ff2bd74",
   "metadata": {
    "slideshow": {
     "slide_type": "subslide"
    },
    "tags": []
   },
   "source": [
    "Now we can resample from our data and compute the mean of each set of samples.\n",
    "\n",
    "Note that python has built in functions for this: `scipy.stats.bootstrap`, but we're going to write out the code to make things clear."
   ]
  },
  {
   "cell_type": "code",
   "execution_count": 43,
   "id": "de68176c-4bf6-4aa9-b48a-7494ef28182c",
   "metadata": {
    "slideshow": {
     "slide_type": "slide"
    },
    "tags": []
   },
   "outputs": [],
   "source": [
    "n_boot = 2000\n",
    "computed_mean = np.zeros(n_boot)\n",
    "for i in range(n_boot):\n",
    "    computed_mean[i] = np.mean(random.choices(data, k=n_data_points))"
   ]
  },
  {
   "cell_type": "markdown",
   "id": "87739b63-9d72-44b3-851a-6c19566022a0",
   "metadata": {
    "slideshow": {
     "slide_type": "slide"
    },
    "tags": []
   },
   "source": [
    " \n",
    "\n",
    "Suppose we want the 95% confidence intervals. In that case we need to \n",
    "1. Sort the data\n",
    "2. Find the values corresponding to  2.5% and 97.5% of the distribution\n",
    "\n",
    "The easiest way to do this is with np.percentile:"
   ]
  },
  {
   "cell_type": "code",
   "execution_count": 44,
   "id": "fb5a1987-d725-4044-922b-ee6836c2d761",
   "metadata": {
    "slideshow": {
     "slide_type": "slide"
    },
    "tags": []
   },
   "outputs": [
    {
     "name": "stdout",
     "output_type": "stream",
     "text": [
      "confidence bounds = [0.39679547 0.61264592]\n"
     ]
    }
   ],
   "source": [
    "confidence_bounds = np.percentile(computed_mean, [2.5, 97.5])\n",
    "print(f'confidence bounds = {confidence_bounds}')"
   ]
  },
  {
   "cell_type": "markdown",
   "id": "dc1ae834-a8c6-4a16-93ed-b5ffde6ac48d",
   "metadata": {
    "slideshow": {
     "slide_type": "subslide"
    },
    "tags": []
   },
   "source": [
    "We can now compare this to what we would get using a standard approach:"
   ]
  },
  {
   "cell_type": "code",
   "execution_count": 52,
   "id": "53ada036-897e-4aa5-9730-dc9635fe11ca",
   "metadata": {
    "slideshow": {
     "slide_type": "subslide"
    },
    "tags": []
   },
   "outputs": [],
   "source": [
    "import scipy.stats as st\n",
    "confidence_bounds_sem = st.t.interval(confidence=0.95, df=len(data)-1, loc=np.mean(data), scale=st.sem(data))"
   ]
  },
  {
   "cell_type": "code",
   "execution_count": 53,
   "id": "a1a49db7-20b2-47cc-b286-eac05192d60d",
   "metadata": {
    "slideshow": {
     "slide_type": "subslide"
    },
    "tags": []
   },
   "outputs": [
    {
     "name": "stdout",
     "output_type": "stream",
     "text": [
      "confidence bounds from sem = (np.float64(0.38289590717621114), np.float64(0.6261007722119686))\n"
     ]
    }
   ],
   "source": [
    "print(f'confidence bounds from sem = {confidence_bounds_sem}')"
   ]
  },
  {
   "cell_type": "markdown",
   "id": "3b2f4203-e92b-4288-a7c7-46cb946768ff",
   "metadata": {
    "slideshow": {
     "slide_type": "subslide"
    },
    "tags": []
   },
   "source": [
    "These confidence bounds are quite similar, as we would expect from the central limit theorem."
   ]
  },
  {
   "cell_type": "markdown",
   "id": "ebbcd6b8-5906-4052-9e2c-073a0bdef6fd",
   "metadata": {
    "slideshow": {
     "slide_type": "slide"
    },
    "tags": []
   },
   "source": [
    "#### A more interesting example\n",
    "\n",
    "The confidence bounds on the mean can be calculated fairly accurately using the SEM, so in practice computing bootstrap confidence intervals for the mean is not that useful.\n",
    "\n",
    "But ... suppose you want to know the confidence bounds for some other statistic, such as the variance of your data. Here it is not obvious how to compute this directly if the data are not Gaussian, but it is easy to do using a bootstrapping approach:"
   ]
  },
  {
   "cell_type": "markdown",
   "id": "f102d82a-612a-48ba-9102-4af012893da3",
   "metadata": {
    "slideshow": {
     "slide_type": "slide"
    },
    "tags": []
   },
   "source": [
    "Let's first create a dataset of samples. Here we use a Gaussian distribution to make the data generation simple, but this works for any distribution. \n",
    "\n",
    "We can imagine that these are firing rates of neurons in some baseline condition."
   ]
  },
  {
   "cell_type": "code",
   "execution_count": 54,
   "id": "48d1a9a4-ad9f-4311-8eb0-8f1a5c1753cc",
   "metadata": {
    "slideshow": {
     "slide_type": "subslide"
    },
    "tags": []
   },
   "outputs": [],
   "source": [
    "mu = 10\n",
    "sigma = 5 # remember that this means that the variance is 25\n",
    "n_data_points_var = 50 \n",
    "A = np.random.normal(loc=mu, scale=sigma, size=n_data_points_var)"
   ]
  },
  {
   "cell_type": "markdown",
   "id": "f6d4cb02-11ac-416a-8cf1-27015f237498",
   "metadata": {
    "slideshow": {
     "slide_type": "subslide"
    },
    "tags": []
   },
   "source": [
    "Now we can compute the bootstaped set of variances by resampling the data"
   ]
  },
  {
   "cell_type": "code",
   "execution_count": 55,
   "id": "c6af106e-36c2-4257-9035-939b4df4d9ed",
   "metadata": {
    "slideshow": {
     "slide_type": "slide"
    },
    "tags": []
   },
   "outputs": [
    {
     "name": "stdout",
     "output_type": "stream",
     "text": [
      "confidence bounds = [15.89877998 32.23860109]\n"
     ]
    }
   ],
   "source": [
    "n_boot = 2000\n",
    "computed_var = np.zeros(n_boot)\n",
    "for i in range(n_boot):\n",
    "    computed_var[i] = np.var(random.choices(A, k=n_data_points_var))\n",
    "\n",
    "confidence_bounds = np.percentile(computed_var, [2.5, 97.5])\n",
    "print(f'confidence bounds = {confidence_bounds}')"
   ]
  },
  {
   "cell_type": "markdown",
   "id": "748b60d9-3a60-4055-8a81-1ac356e60d25",
   "metadata": {
    "slideshow": {
     "slide_type": "subslide"
    },
    "tags": []
   },
   "source": [
    "How would we use confidence bounds like those? Suppose now that we have another set of samples taken from the same system but under a different condition (e.g. we're using optogenetics to inhibit a subclass of interneuron), and we want to ask whether this manipulation changes the variability of the data. For this example we simulate new data with a smaller sigma."
   ]
  },
  {
   "cell_type": "code",
   "execution_count": 56,
   "id": "e763993a-25f8-4e26-bbca-1b70d08210bc",
   "metadata": {
    "slideshow": {
     "slide_type": "subslide"
    },
    "tags": []
   },
   "outputs": [],
   "source": [
    "sigma_opto = 4\n",
    "A_opto = np.random.normal(loc=mu, scale=sigma_opto, size=n_data_points_var)"
   ]
  },
  {
   "cell_type": "markdown",
   "id": "8dc30f79-e0c9-4e60-90d1-56b4e479436b",
   "metadata": {
    "slideshow": {
     "slide_type": "subslide"
    },
    "tags": []
   },
   "source": [
    "Now we can compute the variance of our new data and ask whether it is within the confidence bounds of the variance of our baseline data."
   ]
  },
  {
   "cell_type": "code",
   "execution_count": 57,
   "id": "a6707307-85cf-45ba-a49b-f06250451892",
   "metadata": {
    "slideshow": {
     "slide_type": "subslide"
    },
    "tags": []
   },
   "outputs": [
    {
     "name": "stdout",
     "output_type": "stream",
     "text": [
      "var_opto = 13.854533474478178, compare to confidence bounds for baseline data: [15.89877998 32.23860109]\n"
     ]
    }
   ],
   "source": [
    "var_opto = np.var(A_opto)\n",
    "print(f'var_opto = {var_opto}, compare to confidence bounds for baseline data: {confidence_bounds}')"
   ]
  },
  {
   "cell_type": "markdown",
   "id": "2a762838-50b3-47eb-9f18-175d4e8c38a8",
   "metadata": {
    "slideshow": {
     "slide_type": "subslide"
    },
    "tags": []
   },
   "source": [
    "The variance of the new data is outside the confidence bounds for the baseline data, indicating a significant effect of the manipulation. "
   ]
  },
  {
   "cell_type": "markdown",
   "id": "42273011-7eff-4579-b362-e55f8f655943",
   "metadata": {
    "slideshow": {
     "slide_type": "slide"
    },
    "tags": []
   },
   "source": [
    "#### Using scipy's bootstrap function\n",
    "The examples below are taken from the scipy API reference.\n",
    "\n",
    "First we start with a distribution and some samples from it, in this case a normal distriubition:"
   ]
  },
  {
   "cell_type": "code",
   "execution_count": 58,
   "id": "fdcd8698-8543-47ee-aa27-2e6d5d766201",
   "metadata": {
    "slideshow": {
     "slide_type": "slide"
    },
    "tags": []
   },
   "outputs": [],
   "source": [
    "rng = np.random.default_rng()\n",
    "from scipy.stats import norm\n",
    "dist = norm(loc=2, scale=4)  # our \"unknown\" distribution\n",
    "data = dist.rvs(size=100, random_state=rng)"
   ]
  },
  {
   "cell_type": "markdown",
   "id": "3df12046-a86d-4c2a-8b46-e19fe0bde5de",
   "metadata": {
    "slideshow": {
     "slide_type": "subslide"
    },
    "tags": []
   },
   "source": [
    "Let's suppose that we want to know the standard deviation of the distribution. We'll compare the true value and the value we got for the simulated data. "
   ]
  },
  {
   "cell_type": "code",
   "execution_count": 59,
   "id": "27753f2c-f5ca-4a0f-9a32-b07c32a57106",
   "metadata": {
    "slideshow": {
     "slide_type": "subslide"
    },
    "tags": []
   },
   "outputs": [
    {
     "name": "stdout",
     "output_type": "stream",
     "text": [
      "4.0\n",
      "4.206111900554819\n"
     ]
    }
   ],
   "source": [
    "std_true = dist.std()      # the true value of the statistic\n",
    "print(std_true)\n",
    "std_sample = np.std(data)  # the sample statistic\n",
    "print(std_sample)"
   ]
  },
  {
   "cell_type": "markdown",
   "id": "a7bd1cb5-5698-4658-8ca5-dcc47d4ecf20",
   "metadata": {
    "slideshow": {
     "slide_type": "subslide"
    },
    "tags": []
   },
   "source": [
    "These values are pretty close, but if we don't know the true value, how confident should we be in our measured value?"
   ]
  },
  {
   "cell_type": "code",
   "execution_count": 60,
   "id": "a883bb9b-e7d1-48d7-a63b-fb49a67f8d1a",
   "metadata": {
    "slideshow": {
     "slide_type": "slide"
    },
    "tags": []
   },
   "outputs": [
    {
     "data": {
      "image/png": "[encoded data removed]",
      "text/plain": [
       "<Figure size 640x480 with 1 Axes>"
      ]
     },
     "metadata": {},
     "output_type": "display_data"
    }
   ],
   "source": [
    "from scipy.stats import bootstrap\n",
    "if type(data) is not tuple:\n",
    "    data = (data,)  # samples must be in a sequence\n",
    "res = bootstrap(data, np.std, confidence_level=0.9, rng=rng)\n",
    "fig, ax = plt.subplots()\n",
    "ax.hist(res.bootstrap_distribution, bins=25)\n",
    "ax.set_title('Bootstrap Distribution')\n",
    "ax.set_xlabel('statistic value')\n",
    "ax.set_ylabel('frequency')\n",
    "plt.show()"
   ]
  },
  {
   "cell_type": "code",
   "execution_count": 61,
   "id": "5aa1948e-78b7-4e1d-bc63-4a99d11c283b",
   "metadata": {
    "slideshow": {
     "slide_type": "slide"
    },
    "tags": []
   },
   "outputs": [
    {
     "name": "stdout",
     "output_type": "stream",
     "text": [
      "standard error of bootstrap estimate: 0.2796866239260425\n",
      "90% confidence bound of estimate: ConfidenceInterval(low=np.float64(3.797293732527974), high=np.float64(4.7306361833437185))\n"
     ]
    }
   ],
   "source": [
    "print(f'standard error of bootstrap estimate: {res.standard_error}')\n",
    "print(f'90% confidence bound of estimate: {res.confidence_interval}')"
   ]
  },
  {
   "cell_type": "markdown",
   "id": "fb9d0265-acdc-44c9-aa6e-5966f9cc7db8",
   "metadata": {
    "slideshow": {
     "slide_type": "slide"
    },
    "tags": []
   },
   "source": [
    "#### Bootstrap comparisons across datasets\n",
    "\n",
    "We start with a function that returns the statistics we want to compute, in this case a difference in means:"
   ]
  },
  {
   "cell_type": "code",
   "execution_count": 102,
   "id": "c605c5ba-7198-4b6f-a238-45aa6673f4b5",
   "metadata": {
    "slideshow": {
     "slide_type": "slide"
    },
    "tags": []
   },
   "outputs": [],
   "source": [
    "def my_mean(sample1, sample2, axis=-1):\n",
    "    mean1 = np.mean(sample1, axis=axis)\n",
    "    mean2 = np.mean(sample2, axis=axis)\n",
    "    return mean1 - mean2"
   ]
  },
  {
   "cell_type": "code",
   "execution_count": 103,
   "id": "23af7e10-7c67-44c1-837b-f3d7b9fd6df7",
   "metadata": {},
   "outputs": [
    {
     "name": "stdout",
     "output_type": "stream",
     "text": [
      "Actual difference between means: -0.6288343293623573\n",
      "Confidence Interval: ConfidenceInterval(low=np.float64(-0.8977060035475312), high=np.float64(-0.3650094466449071))\n"
     ]
    }
   ],
   "source": [
    "sample1 = norm.rvs(scale=1, loc=1, size=100, random_state=rng)\n",
    "sample2 = norm.rvs(scale=1, loc=2, size=100, random_state=rng)\n",
    "data = (sample1, sample2)\n",
    "res = bootstrap(data, my_mean, method='basic', rng=rng)\n",
    "print(f'Actual difference between means: {my_statistic(sample1, sample2)}')\n",
    "print(f'Confidence Interval: {res.confidence_interval}')"
   ]
  },
  {
   "cell_type": "markdown",
   "id": "56a87a57-bc58-47ff-8610-479419baec11",
   "metadata": {},
   "source": [
    "It's also possible to use bootstrap with paired data:\n"
   ]
  },
  {
   "cell_type": "code",
   "execution_count": 104,
   "id": "1a5994d7-9779-4a8b-b769-05b0c581211f",
   "metadata": {},
   "outputs": [
    {
     "name": "stdout",
     "output_type": "stream",
     "text": [
      "0.9949038639471517\n"
     ]
    }
   ],
   "source": [
    "from scipy.stats import pearsonr\n",
    "n = 100\n",
    "x = np.linspace(0, 10, n)\n",
    "y = x + rng.uniform(size=n)\n",
    "print(pearsonr(x, y)[0])  # element 0 is the statistic\n",
    "\n"
   ]
  },
  {
   "cell_type": "code",
   "execution_count": 105,
   "id": "5888ae86-0c09-4788-b792-fb74165c2e2f",
   "metadata": {},
   "outputs": [
    {
     "name": "stdout",
     "output_type": "stream",
     "text": [
      "ConfidenceInterval(low=np.float64(0.9933956429199948), high=np.float64(0.9960103070994201))\n"
     ]
    }
   ],
   "source": [
    "def my_pearsonr(x, y, axis=-1):\n",
    "    return pearsonr(x, y, axis=axis)[0]\n",
    "\n",
    "res = bootstrap((x, y), my_pearsonr, paired=True, rng=rng)\n",
    "print(res.confidence_interval)"
   ]
  },
  {
   "cell_type": "markdown",
   "id": "3cc2e557-4103-4bfd-a84e-5ceabd89a39f",
   "metadata": {
    "slideshow": {
     "slide_type": "slide"
    },
    "tags": []
   },
   "source": [
    "#### Limitations of Bootstrapping\n",
    "\n",
    "Bootstrapping works well in many cases, but can give biased estimates when the number of data points is small (< 20 or so). In general, when the samples are not a great representation of the underlying distribution, estimates based on those samples will be less accurate. "
   ]
  },
  {
   "cell_type": "markdown",
   "id": "b9f716b3-9561-42f4-9b6b-f11e87d7bbf7",
   "metadata": {
    "slideshow": {
     "slide_type": "slide"
    },
    "tags": []
   },
   "source": [
    "### Permutation tests\n",
    "\n",
    "Bootstrapping is useful for estimating confidence bounds. Permutation tests extend this approach to allow us to compare statistics across sets of samples or look at relationships between variables (e.g. measurements of pairs of variables where the goal is to determine whether the two variables are predictive of one another)\n",
    "\n",
    "Like boostrapping, permutation tests are assumption-free, and thus provide a effective way to ask questions about differences or relationships when the data are non-Gaussian."
   ]
  },
  {
   "cell_type": "markdown",
   "id": "2a7be2cf-d164-4660-89bd-0efd514c638c",
   "metadata": {
    "slideshow": {
     "slide_type": "slide"
    },
    "tags": []
   },
   "source": [
    "Procedure for comparison across groups:\n",
    "1. Start with two sets of data $ A={a_1,a_2,\\ldots,a_n} $ and $ B={b_1,b_2,\\ldots,b_m} $. Note that they do not need to contain the same number of points.\n",
    "2. Choose an $ f(X) $ that you want to compare across the datasets (e.g. means, medians, etc.).\n",
    "3. Compute $D = f(A) - f(B)$ (the difference of the statistics across the datasets)\n"
   ]
  },
  {
   "cell_type": "markdown",
   "id": "9863bebc-cfdc-4913-bba8-6cf29fd5fc33",
   "metadata": {
    "slideshow": {
     "slide_type": "slide"
    },
    "tags": []
   },
   "source": [
    "4. Create a new set of datasets $ A_{1} $ and $ B_{1} $ by permuting the dataset label (a or b) for each point. One way to think of this is that you make a list that contains both $A$ and $B$ and then draw $n$ points randomly from that list to make a $ A_{1} $, leaving the remaining $m$ points to be \n",
    "$ B_{1} $.\n",
    "5. Compute $ D_{1} = f(A_{1}) - f(B_{1})$ \n",
    "6. Repeat 4 & 5 many times (1000s) to get $ \\{ D_{1}, D_{2}, ... \\} $\n",
    "7. Lookup the percentile of $D$ within the distribution of $ D_{i} $ and convert to a p-value that estimates the likelihood of getting a value for D that is as extreme or more extreme than your measurement. "
   ]
  },
  {
   "cell_type": "markdown",
   "id": "ee6da30e-0c94-4d72-8eb6-851943f3d7ee",
   "metadata": {
    "slideshow": {
     "slide_type": "slide"
    },
    "tags": []
   },
   "source": [
    "The intuition here is that the permutation of the labels is equivalent to assuming the data all come from the same distribution, allowing us to ask how different the mean of two randome samples of data from that distribution are likely to be. If the difference we measured is larger than we would expect if the data all came from that single distribution, then we have evidence that the two sets of data are different.\n"
   ]
  },
  {
   "cell_type": "code",
   "execution_count": 106,
   "id": "d0ea85db-6f4b-4049-9565-bfb25cb98ade",
   "metadata": {
    "slideshow": {
     "slide_type": "slide"
    },
    "tags": []
   },
   "outputs": [
    {
     "name": "stdout",
     "output_type": "stream",
     "text": [
      "mean difference between samples: -0.6288343293623573\n",
      "pvalue: 0.00019998000199980003\n"
     ]
    }
   ],
   "source": [
    "# we'll use sample1 and sample2 from above:\n",
    "from scipy.stats import permutation_test\n",
    "# because our statistic is vectorized, we pass `vectorized=True`\n",
    "# `n_resamples=np.inf` indicates that an exact test is to be performed\n",
    "res = permutation_test((sample1, sample2), my_mean, vectorized=True,\n",
    "                       n_resamples=10000)\n",
    "print(f'mean difference between samples: {res.statistic}')\n",
    "print(f'pvalue: {res.pvalue}')"
   ]
  },
  {
   "cell_type": "markdown",
   "id": "1af947c1-7820-4373-ab72-88d830821fb2",
   "metadata": {},
   "source": [
    "#### Python example : differences of means\n",
    "\n",
    "We will start with a simple two group situation where we simulate data from two Gaussian distributions and ask if we can detect a difference between the means of the samples from those distributions. "
   ]
  },
  {
   "cell_type": "code",
   "execution_count": 182,
   "id": "a32529b3-003d-4593-8700-aa48ca653085",
   "metadata": {},
   "outputs": [],
   "source": [
    "n_data_points_A = 20\n",
    "n_data_points_B = 15\n",
    "# define the mu and sigmas for our Gaussians:\n",
    "mu_a = 10\n",
    "sigma_a = 5\n",
    "mu_b = 15\n",
    "sigma_b = 10\n",
    "\n",
    "A = np.random.normal(loc=mu_a, scale=sigma_a, size=n_data_points_A)\n",
    "B = np.random.normal(loc=mu_b, scale=sigma_b, size=n_data_points_B)"
   ]
  },
  {
   "cell_type": "markdown",
   "id": "65788dba-f3bf-4157-8f87-79af072379f2",
   "metadata": {
    "tags": []
   },
   "source": [
    "In this case we want to compare the means of the distributions, so we calculate the differences in the means."
   ]
  },
  {
   "cell_type": "code",
   "execution_count": 183,
   "id": "6036a0a9-b5f4-4548-9914-a7107a032a93",
   "metadata": {
    "tags": []
   },
   "outputs": [],
   "source": [
    "D = A.mean() - B.mean()"
   ]
  },
  {
   "cell_type": "markdown",
   "id": "37a36b85-ae1e-428b-b7e7-e3d1fd0d8386",
   "metadata": {},
   "source": [
    "Now we permute the labels and calculate the differences between the permuted means many times. Note that there are functions to do this for you (e.g. `scipy.stats.permutation_test`) but sometimes you will need to write the function yourself because your measure is not a standard one."
   ]
  },
  {
   "cell_type": "code",
   "execution_count": 184,
   "id": "5eb26fab-0ce9-4be0-a707-10b9c976dfca",
   "metadata": {},
   "outputs": [],
   "source": [
    "n_permute = 10000\n",
    "# put the data into a single array\n",
    "pooled_data = np.hstack([A,B])\n",
    "pooled_D = np.zeros(n_permute)\n",
    "for i in range(n_permute):\n",
    "    np.random.shuffle(pooled_data)\n",
    "    # our new A will be the first n_data_points_A elements\n",
    "    tmpA = pooled_data[:n_data_points_A]\n",
    "    # our new B will be the last n_data_points_B. We could of course also do [n_data_points_A+1:]\n",
    "    tmpB = pooled_data[-n_data_points_B:]\n",
    "    pooled_D[i] = tmpA.mean() - tmpB.mean()"
   ]
  },
  {
   "cell_type": "markdown",
   "id": "6d1a49db-e6d8-49c5-9836-d452b3c6a637",
   "metadata": {},
   "source": [
    "Now we can determine the percentile of D in the pooled_D distribution"
   ]
  },
  {
   "cell_type": "code",
   "execution_count": 1,
   "id": "e9869bda-d50a-43fa-af7b-e9a349d76050",
   "metadata": {},
   "outputs": [
    {
     "ename": "NameError",
     "evalue": "name 'st' is not defined",
     "output_type": "error",
     "traceback": [
      "\u001b[0;31m---------------------------------------------------------------------------\u001b[0m",
      "\u001b[0;31mNameError\u001b[0m                                 Traceback (most recent call last)",
      "\u001b[0;32m<ipython-input-1-6b415f50e834>\u001b[0m in \u001b[0;36m<module>\u001b[0;34m\u001b[0m\n\u001b[0;32m----> 1\u001b[0;31m \u001b[0mpercentile\u001b[0m \u001b[0;34m=\u001b[0m \u001b[0mst\u001b[0m\u001b[0;34m.\u001b[0m\u001b[0mpercentileofscore\u001b[0m\u001b[0;34m(\u001b[0m\u001b[0mpooled_D\u001b[0m\u001b[0;34m,\u001b[0m \u001b[0mD\u001b[0m\u001b[0;34m)\u001b[0m\u001b[0;34m\u001b[0m\u001b[0;34m\u001b[0m\u001b[0m\n\u001b[0m\u001b[1;32m      2\u001b[0m \u001b[0;31m# to make life easy, if the percentile is > 50, we flip it to be < 50\u001b[0m\u001b[0;34m\u001b[0m\u001b[0;34m\u001b[0m\u001b[0;34m\u001b[0m\u001b[0m\n\u001b[1;32m      3\u001b[0m \u001b[0;32mif\u001b[0m \u001b[0mpercentile\u001b[0m \u001b[0;34m>\u001b[0m \u001b[0;36m50\u001b[0m\u001b[0;34m:\u001b[0m\u001b[0;34m\u001b[0m\u001b[0;34m\u001b[0m\u001b[0m\n\u001b[1;32m      4\u001b[0m     \u001b[0mpercentile\u001b[0m \u001b[0;34m=\u001b[0m \u001b[0;36m100\u001b[0m \u001b[0;34m-\u001b[0m \u001b[0mpercentile\u001b[0m\u001b[0;34m\u001b[0m\u001b[0;34m\u001b[0m\u001b[0m\n\u001b[1;32m      5\u001b[0m \u001b[0mprint\u001b[0m\u001b[0;34m(\u001b[0m\u001b[0;34mf'percentile of measured difference is {percentile:0.2f}, corresponding to a two-tailed p-value of {percentile / 100 * 2:0.3f}'\u001b[0m\u001b[0;34m)\u001b[0m\u001b[0;34m\u001b[0m\u001b[0;34m\u001b[0m\u001b[0m\n",
      "\u001b[0;31mNameError\u001b[0m: name 'st' is not defined"
     ]
    }
   ],
   "source": [
    "percentile = st.percentileofscore(pooled_D, D)\n",
    "# to make life easy, if the percentile is > 50, we flip it to be < 50\n",
    "if percentile > 50:\n",
    "    percentile = 100 - percentile\n",
    "print(f'percentile of measured difference is {percentile:0.2f}, corresponding to a two-tailed p-value of {percentile / 100 * 2:0.3f}')"
   ]
  },
  {
   "cell_type": "markdown",
   "id": "54cc2b5a-e923-4d9d-846d-e0dde40cbe6a",
   "metadata": {},
   "source": [
    "In this case the distributions are too similar and the data points too few, to allow us to detect a difference between them."
   ]
  },
  {
   "cell_type": "markdown",
   "id": "771bd8f9-8411-4bff-8770-195dcb25539b",
   "metadata": {},
   "source": [
    "We can do something very similar if we want to look at measures of the relationship between paired measurements $\\{X,Y\\}$ such as reaction time and accuracy. In this case we might be interested in determining whether there is a signficant correlation between the measurements, which means that knowing $x$ tells us something about $y$.\n",
    "\n",
    "\n",
    "Procedure for comparison across groups:\n",
    "1. Start with a sets of paired data points $ X={x_1,x_2,\\ldots,x_n} $ and $ Y={y_1,y_2,\\ldots,y_m} $. \n",
    "2. Choose an $ f(X,Y) $ that you want to compute.\n",
    "3. Compute the value of $ f(X,Y) $\n",
    "4. Create a new set of paired values by keeping $ X $ the same and permuting the order of the points in $ Y $ to create $ \\{X, Y_{1}\\} $\n",
    "4. Compute $f_{1} =  f(X,Y_{1}) $ \n",
    "5. Repeat 4 & 5 many times (1000s) to get $ \\{ f_{1}, f_{2}, ... \\} $\n",
    "6. Lookup the percentile of $f(X,Y)$ within the distribution of $ f_{i} $ and convert to a p-value that estimates the likelihood of getting a value for $f(X,Y)$ that is as extreme or more extreme than your measurement. \n",
    "\n",
    "#### Python example: significance of correlation \n"
   ]
  },
  {
   "cell_type": "code",
   "execution_count": 186,
   "id": "f28a7377-710d-46b2-aa43-509315cf62aa",
   "metadata": {},
   "outputs": [],
   "source": [
    "n_data_points_XY = 20\n",
    "# define the mu and sigmas for our X distribution :\n",
    "mu_x = 10\n",
    "sigma_x = 10\n",
    "\n",
    "# for variety, we'll use a log normal distribution for the variabilty of Y around X\n",
    "mu_y = 1.8\n",
    "sigma_y = 1.2\n",
    "\n",
    "# Create a set of simulated X data drawn from a Gaussian distribution\n",
    "X = np.random.normal(loc=mu_x, scale=sigma_x, size=n_data_points_XY)\n",
    "# simulate the Y data as uniform variability around the X data\n",
    "Y = X + np.random.lognormal(mean=mu_y, sigma=sigma_y, size=n_data_points_XY)"
   ]
  },
  {
   "cell_type": "markdown",
   "id": "32f21d74-e38e-4e94-8f44-ca7e08565d5f",
   "metadata": {},
   "source": [
    "Let's plot the data to see what they look like:"
   ]
  },
  {
   "cell_type": "code",
   "execution_count": 187,
   "id": "6c114697-c027-4a6f-9366-c573a0f12d3f",
   "metadata": {},
   "outputs": [
    {
     "data": {
      "text/plain": [
       "Text(0, 0.5, 'Y')"
      ]
     },
     "execution_count": 187,
     "metadata": {},
     "output_type": "execute_result"
    },
    {
     "data": {
      "image/png": "[encoded data removed]",
      "text/plain": [
       "<Figure size 432x288 with 1 Axes>"
      ]
     },
     "metadata": {
      "needs_background": "light"
     },
     "output_type": "display_data"
    }
   ],
   "source": [
    "plt.plot(X,Y, 'bo')\n",
    "plt.xlabel('X')\n",
    "plt.ylabel('Y')"
   ]
  },
  {
   "cell_type": "markdown",
   "id": "56198d56-0f8d-49d3-b8d2-5af25a7ddaaf",
   "metadata": {},
   "source": [
    "Now we can compute the correlation from our baseline data set. Note that np.corrcoef returns the full correlation matrix, and we're interested in the off diagonal elements which represent the correlation between X and Y."
   ]
  },
  {
   "cell_type": "code",
   "execution_count": 188,
   "id": "64876056-2ef2-4884-8714-c33973977810",
   "metadata": {
    "tags": []
   },
   "outputs": [
    {
     "name": "stdout",
     "output_type": "stream",
     "text": [
      "correlation = 0.5119619228841004\n"
     ]
    }
   ],
   "source": [
    "corr = np.corrcoef(X,Y)\n",
    "print(f'correlation = {corr[0,1]}')"
   ]
  },
  {
   "cell_type": "markdown",
   "id": "6a8a1385-de1e-4ad2-8951-1c43f6aecba7",
   "metadata": {},
   "source": [
    "To determine whether this is a significant correlation, we permute the y labels many times and recompute:"
   ]
  },
  {
   "cell_type": "code",
   "execution_count": 189,
   "id": "f5a1c99c-8a90-4b0f-9170-6241fc83f68e",
   "metadata": {},
   "outputs": [],
   "source": [
    "n_permute = 10000\n",
    "permuted_corr = np.zeros(n_permute)\n",
    "for i in range(n_permute):\n",
    "    np.random.shuffle(Y)\n",
    "    permuted_corr[i] = np.corrcoef(X,Y)[0,1]"
   ]
  },
  {
   "cell_type": "code",
   "execution_count": 190,
   "id": "c7364a2b-d6a7-48a8-8e0a-340b8a7eeceb",
   "metadata": {},
   "outputs": [
    {
     "name": "stdout",
     "output_type": "stream",
     "text": [
      "percentile of measured difference is 0.96, corresponding to a two-tailed p-value of 0.0192\n"
     ]
    }
   ],
   "source": [
    "percentile = st.percentileofscore(permuted_corr, corr[0,1])\n",
    "# to make life easy, if the percentile is > 50, we flip it to be < 50\n",
    "if percentile > 50:\n",
    "    percentile = 100 - percentile\n",
    "print(f'percentile of measured difference is {percentile:0.2f}, corresponding to a two-tailed p-value of {(percentile / 100 * 2):.4f}')"
   ]
  },
  {
   "cell_type": "markdown",
   "id": "fa429e6a-18ba-4225-afc1-956ddc48beef",
   "metadata": {},
   "source": [
    "#### Permutation test general procedure"
   ]
  },
  {
   "cell_type": "markdown",
   "id": "b86fe913-0c23-4c6e-b05b-5ac653e01cc3",
   "metadata": {},
   "source": [
    "A permutation test can be used in a wide variety of situations. The general procedure is  \n",
    "1. Determine what are you trying to test (e.g. differences between groups; relationship between paired data points, etc).\n",
    "2. Identify a permutation of the data corresponding to your null hypothesis (e.g. the groups come from the same underlying distribution, the paired data points are not related, etc.).\n",
    "3. Permute the data, recompute the statistic for each permutation, and compare your measured statistics to the distribution of statistics from the permuted data."
   ]
  },
  {
   "cell_type": "markdown",
   "id": "367cbdfc-7437-475f-8939-2942f2440670",
   "metadata": {
    "slideshow": {
     "slide_type": "subslide"
    },
    "tags": []
   },
   "source": [
    "### Heirarchical bootstrap for hypothesis testing"
   ]
  },
  {
   "cell_type": "markdown",
   "id": "a64eda5e-e16f-43c2-9430-ea6babaa15d8",
   "metadata": {
    "slideshow": {
     "slide_type": "slide"
    },
    "tags": []
   },
   "source": [
    "see  https://pmc.ncbi.nlm.nih.gov/articles/PMC7906290/ and \n",
    "https://github.com/soberlab/Hierarchical-Bootstrap-Paper/blob/master/Bootstrap%20Paper%20Simulation%20Figure%20Codes.ipynb\n",
    "\n",
    "#### General Idea\n",
    "\n",
    "When we have multiple levels of nested data, as when we collect data from many cells across multiple animals, we know that the data are not independent within animal. There are two main approaches to deal with this: Linear Mixed Models (to be presented later) and heirarchical bootstrapping.\n",
    "\n",
    "In the heirarchical bootstrap we create new datasets where we do sampling with replacement at each level. These new datasets allow us to compute differences in our measure across the highest level groups and to get confidence bounds on these differences."
   ]
  },
  {
   "cell_type": "code",
   "execution_count": null,
   "id": "15a8c0ae-e3b6-43d4-bd64-2a0ad78e03d7",
   "metadata": {},
   "outputs": [],
   "source": []
  }
 ],
 "metadata": {
  "kernelspec": {
   "display_name": "Python 3 (ipykernel)",
   "language": "python",
   "name": "python3"
  },
  "language_info": {
   "codemirror_mode": {
    "name": "ipython",
    "version": 3
   },
   "file_extension": ".py",
   "mimetype": "text/x-python",
   "name": "python",
   "nbconvert_exporter": "python",
   "pygments_lexer": "ipython3",
   "version": "3.11.11"
  }
 },
 "nbformat": 4,
 "nbformat_minor": 5
}
