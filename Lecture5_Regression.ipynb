{
 "cells": [
  {
   "cell_type": "code",
   "execution_count": 2,
   "id": "74a5a56d-ef7c-460e-bfa6-f20979260c30",
   "metadata": {},
   "outputs": [],
   "source": [
    "import numpy as np\n",
    "import matplotlib.pyplot as plt"
   ]
  },
  {
   "cell_type": "markdown",
   "id": "e9e05d42-bc57-4b27-bca3-23a677958402",
   "metadata": {
    "slideshow": {
     "slide_type": "slide"
    },
    "tags": []
   },
   "source": [
    "## NS248 Lecture 5 – Regression\n",
    "\n",
    "Suggested reading:  Book ch. 13, 14\n",
    "There are also many descriptions of these methods online.\n"
   ]
  },
  {
   "cell_type": "markdown",
   "id": "9465f33f-77d4-461a-8a6e-ac8293055b12",
   "metadata": {
    "slideshow": {
     "slide_type": "slide"
    },
    "tags": []
   },
   "source": [
    "1. General principles of model building\n",
    "    1. Goal: describe data with the simplest possible model\n",
    "    2. Questions\n",
    "        1. Which model do you use?\n",
    "        2. How do you determine how well it describes the data?\n",
    "        3. How do you avoid overfitting?  \n",
    "        \n",
    "     \n",
    "2. Specific case for regression: one output variable, one or more input variables: \n",
    "$ y = f(\\vec{X}) $\n",
    "\n"
   ]
  },
  {
   "cell_type": "markdown",
   "id": "956b32d3-7223-4290-b5c7-794aac65f627",
   "metadata": {
    "slideshow": {
     "slide_type": "slide"
    },
    "tags": []
   },
   "source": [
    "### Descriptions of relationships between a single x and a single y:\n",
    "1. Covariance \n",
    "    \n",
    "    1. Similar to variance, but for two variables:  \n",
    "\n",
    "        $ cov(X,Y) = E[(X - \\mu_{x})(Y - \\mu_{y})]\\\\\n",
    "                  = \\Large{\n",
    "                        \\frac{\\sum_{i=1}^n ((x_{i} - \\bar{x})((y_{i} - \\bar{y}))}{n}\n",
    "                        } $  \n",
    "      <br>\n",
    "      "
   ]
  },
  {
   "cell_type": "markdown",
   "id": "3edf534c-5a56-4a04-903b-2889c0b44a77",
   "metadata": {
    "jp-MarkdownHeadingCollapsed": true,
    "slideshow": {
     "slide_type": "slide"
    },
    "tags": []
   },
   "source": [
    "2. Correlation  \n",
    "\n",
    "$$ \\rho = {\\frac{cov(X,Y)}{\\sigma_{x}\\sigma_{y}}} $$\n",
    "        \n",
    "For sampled data: <br> \n",
    "\n",
    "$$ r(X,Y)  = \\Large{\n",
    "                        \\frac{\\sum_{i=1}^n ((x_{i} - \\bar{x})(y_{i} - \\bar{y}))}\n",
    "                             {\\sqrt{\n",
    "                                    \\sum_{i=1}^n (x_{i} - \\bar{x})^2(y_{i} - \\bar{y})^2\n",
    "                                   }\n",
    "                              }\n",
    "} $$\n",
    "                          \n",
    "\n"
   ]
  },
  {
   "cell_type": "markdown",
   "id": "7fff79b7-32d7-4fa9-a407-f253b1a3dcda",
   "metadata": {
    "slideshow": {
     "slide_type": "slide"
    },
    "tags": []
   },
   "source": [
    "\n",
    "Assumptions:\n",
    "- p-value assumes normally distributed x and y data.\n",
    "         \n",
    "scipy.stats.pearsonr  \n",
    "\n",
    "Alternative for rank / non-normal data: Spearman's rho\n",
    "- Compares relative ordering of x and y\n",
    "- Does not consider magnitude of individual samples\n",
    "\n",
    "scipy.stats.spearmanr"
   ]
  },
  {
   "cell_type": "markdown",
   "id": "297dbc23-0927-4a09-90f4-0aba19517a85",
   "metadata": {
    "slideshow": {
     "slide_type": "slide"
    },
    "tags": []
   },
   "source": [
    "### Linear Regression:\n",
    "  \n",
    "General form: \n",
    "<br>\n",
    "    $$ y = \\beta_{0} + \\beta_{1}x_{1} + \\beta_{2}x_{2} + ... +  \\beta_{n}x_{n} $$\n",
    "    or  \n",
    "    $$ y = \\beta X $$\n",
    ">    $ y $ is the dependent variable (the variable being predicted)  \n",
    ">   $ \\beta_{i} $ is the intercept for $i=0$ and the slope for $i > 0$ (also knows as the regression coefficients)  \n",
    ">    $ x_{i} $ is the i-th independent variable  \n",
    "    "
   ]
  },
  {
   "cell_type": "markdown",
   "id": "1cdc31dc-94e3-41b7-9620-5e4cb0844859",
   "metadata": {
    "slideshow": {
     "slide_type": "slide"
    },
    "tags": []
   },
   "source": [
    "#### Fitting procedure:  \n",
    "- Find set of $ {\\beta_{i}} $ that minimizes squared error: $(y_{measured} - y_{predicted})^2 $\n",
    "    \n",
    "- python: here we will use statsmodels, which provides all of the statistics we might want, but you can also use scipy.stats or scikit-learn.\n",
    "    "
   ]
  },
  {
   "cell_type": "markdown",
   "id": "b244614b-59f5-4d2d-96a4-8cb136ba7c31",
   "metadata": {
    "slideshow": {
     "slide_type": "slide"
    },
    "tags": []
   },
   "source": [
    "\n",
    "##### Assumptions for interpretation of associated r and p values\n",
    "- Data can be described by a linear model\n",
    "- Residuals $(y_{measured} - y_{predicted})$ are normally distributed\n",
    "- Residuals are independent and identically distributed, meaning that they have the same distribution regardless of where one is in terms of the independent variables.\n",
    "   "
   ]
  },
  {
   "cell_type": "markdown",
   "id": "a573f523-4e4b-440b-9aef-d6cb28cacfd9",
   "metadata": {
    "slideshow": {
     "slide_type": "slide"
    },
    "tags": []
   },
   "source": [
    "#### Goodness-of-fit\n",
    "It is always important to determine two things:\n",
    " - Does the fit indicate that there is a significant relationship between x and y? \n",
    "    + This is captured by the p-value of the fit.\n",
    "    + This can also be assessed using a permutation test where the measured residuals are compared to those obtained when you permute the y values relative to the x values.\n",
    "         \n",
    "         "
   ]
  },
  {
   "cell_type": "markdown",
   "id": "a06bc1b0-8984-42bb-8f5a-8636a6ff5eed",
   "metadata": {
    "slideshow": {
     "slide_type": "slide"
    },
    "tags": []
   },
   "source": [
    "\n",
    "\n",
    "##### Explained Variance  \n",
    "\n",
    "- The fraction of the variability in y that is explained by x given the model. For linear regression, this is the same as $R^2$ .\n",
    "\n",
    "Calculation of fraction of variability explained $ EV $ :\n",
    "\n",
    "Calculate the total sum of squares for Y (the summed deviation of the y values from their mean)\n",
    "\n",
    "$$ SS_{total} = \\sum_{i=1}^n (y_{i}-\\bar{y})^2 $$\n",
    "\n"
   ]
  },
  {
   "cell_type": "markdown",
   "id": "414c1d1c-5623-410d-80b5-1630b1b1370d",
   "metadata": {
    "slideshow": {
     "slide_type": "slide"
    },
    "tags": []
   },
   "source": [
    "Calculate the sum of squares of the residuals from the model:\n",
    "\n",
    "$$ SS_{residual} = \\sum_{i=1}^n (y_{i}-y_{i predicted})^2 $$  \n",
    "                \n",
    "As $$ SS_{total} = SS_{explained} + SS_{residual} $$,  \n",
    "                 $$ EV = \\large\\frac{SS_{explained}}{SS_{total}} = \\frac{SS_{total}-SS_{residual}}{SS_{total}} = 1 - \\frac{SS_{residual}}{SS_{total}} $$          \n",
    "                "
   ]
  },
  {
   "cell_type": "code",
   "execution_count": 68,
   "id": "a980c70a-bb47-40f5-baf9-8e6abb79a113",
   "metadata": {
    "slideshow": {
     "slide_type": "slide"
    },
    "tags": []
   },
   "outputs": [],
   "source": [
    "\n",
    "import numpy as np\n",
    "import statsmodels.api as sm \n",
    "import matplotlib.pyplot as plt"
   ]
  },
  {
   "cell_type": "code",
   "execution_count": 69,
   "id": "31b32a59-edbe-4906-a4f5-a03d33845754",
   "metadata": {
    "slideshow": {
     "slide_type": "slide"
    },
    "tags": []
   },
   "outputs": [
    {
     "data": {
      "text/plain": [
       "Text(0, 0.5, 'Y')"
      ]
     },
     "execution_count": 69,
     "metadata": {},
     "output_type": "execute_result"
    },
    {
     "data": {
      "image/png": "[encoded data removed]",
      "text/plain": [
       "<Figure size 640x480 with 1 Axes>"
      ]
     },
     "metadata": {},
     "output_type": "display_data"
    }
   ],
   "source": [
    "# Create a simple dataset:\n",
    "n_points = 25\n",
    "x = np.random.uniform(size=n_points)\n",
    "y = x + np.random.normal(loc = 0.0, scale = 0.25, size=n_points)\n",
    "plt.plot(x,y, '.')\n",
    "plt.xlabel('X')\n",
    "plt.ylabel('Y')"
   ]
  },
  {
   "cell_type": "markdown",
   "id": "8efd9964-7d10-4804-bb17-6694402d4631",
   "metadata": {
    "slideshow": {
     "slide_type": "subslide"
    },
    "tags": []
   },
   "source": [
    "Now we fit a regression model. To so first add a constant term to the x-array to take care of the intercept and then call the OLS function, which stands for Ordinary Least Squares:\n"
   ]
  },
  {
   "cell_type": "code",
   "execution_count": 70,
   "id": "14576de6-9b57-4303-bcfc-5ca19dc7c9e9",
   "metadata": {
    "slideshow": {
     "slide_type": "subslide"
    },
    "tags": []
   },
   "outputs": [
    {
     "data": {
      "text/plain": [
       "array([[1.00000000e+00, 4.04546524e-01],\n",
       "       [1.00000000e+00, 9.81609357e-04],\n",
       "       [1.00000000e+00, 8.63216118e-01],\n",
       "       [1.00000000e+00, 9.62521970e-01],\n",
       "       [1.00000000e+00, 1.62492692e-01],\n",
       "       [1.00000000e+00, 4.95130559e-01],\n",
       "       [1.00000000e+00, 2.77780496e-01],\n",
       "       [1.00000000e+00, 6.59607850e-01],\n",
       "       [1.00000000e+00, 3.81627464e-01],\n",
       "       [1.00000000e+00, 2.75806121e-02],\n",
       "       [1.00000000e+00, 4.65110825e-01],\n",
       "       [1.00000000e+00, 9.64049120e-01],\n",
       "       [1.00000000e+00, 7.62555755e-01],\n",
       "       [1.00000000e+00, 3.17779542e-02],\n",
       "       [1.00000000e+00, 5.83944785e-01],\n",
       "       [1.00000000e+00, 8.38396990e-01],\n",
       "       [1.00000000e+00, 2.18619419e-01],\n",
       "       [1.00000000e+00, 1.16125633e-01],\n",
       "       [1.00000000e+00, 1.42216868e-01],\n",
       "       [1.00000000e+00, 4.63102514e-01],\n",
       "       [1.00000000e+00, 9.46051214e-01],\n",
       "       [1.00000000e+00, 2.73516361e-01],\n",
       "       [1.00000000e+00, 1.75508214e-01],\n",
       "       [1.00000000e+00, 3.13702632e-01],\n",
       "       [1.00000000e+00, 2.74113986e-01]])"
      ]
     },
     "execution_count": 70,
     "metadata": {},
     "output_type": "execute_result"
    }
   ],
   "source": [
    "x_fit = sm.add_constant(x)\n",
    "x_fit"
   ]
  },
  {
   "cell_type": "code",
   "execution_count": 71,
   "id": "9996268b-0463-4b8e-8fb6-8fc19dd3aaef",
   "metadata": {
    "slideshow": {
     "slide_type": "slide"
    },
    "tags": []
   },
   "outputs": [],
   "source": [
    "linear_fit = sm.OLS(y,x_fit).fit()"
   ]
  },
  {
   "cell_type": "markdown",
   "id": "0b8ca83c-07de-41c1-b97a-fd531c767d8d",
   "metadata": {},
   "source": [
    "We can display a lot of useful information about the fit by printing out the summary:"
   ]
  },
  {
   "cell_type": "code",
   "execution_count": 72,
   "id": "0786a986-e6ec-400a-a459-f4994e6af210",
   "metadata": {
    "slideshow": {
     "slide_type": "slide"
    },
    "tags": []
   },
   "outputs": [
    {
     "name": "stdout",
     "output_type": "stream",
     "text": [
      "                            OLS Regression Results                            \n",
      "==============================================================================\n",
      "Dep. Variable:                      y   R-squared:                       0.701\n",
      "Model:                            OLS   Adj. R-squared:                  0.688\n",
      "Method:                 Least Squares   F-statistic:                     54.00\n",
      "Date:                Thu, 30 Jan 2025   Prob (F-statistic):           1.78e-07\n",
      "Time:                        08:10:39   Log-Likelihood:                 4.0107\n",
      "No. Observations:                  25   AIC:                            -4.021\n",
      "Df Residuals:                      23   BIC:                            -1.584\n",
      "Df Model:                           1                                         \n",
      "Covariance Type:            nonrobust                                         \n",
      "==============================================================================\n",
      "                 coef    std err          t      P>|t|      [0.025      0.975]\n",
      "------------------------------------------------------------------------------\n",
      "const         -0.0038      0.074     -0.051      0.960      -0.158       0.150\n",
      "x1             1.0326      0.141      7.349      0.000       0.742       1.323\n",
      "==============================================================================\n",
      "Omnibus:                        0.845   Durbin-Watson:                   2.039\n",
      "Prob(Omnibus):                  0.656   Jarque-Bera (JB):                0.736\n",
      "Skew:                          -0.382   Prob(JB):                        0.692\n",
      "Kurtosis:                       2.650   Cond. No.                         3.93\n",
      "==============================================================================\n",
      "\n",
      "Notes:\n",
      "[1] Standard Errors assume that the covariance matrix of the errors is correctly specified.\n"
     ]
    }
   ],
   "source": [
    "print(linear_fit.summary())"
   ]
  },
  {
   "cell_type": "markdown",
   "id": "b912522d-472a-4a94-b52b-3c4cb5c0c3ed",
   "metadata": {
    "slideshow": {
     "slide_type": "slide"
    },
    "tags": []
   },
   "source": [
    "To understand this output we start in with the right column at top and highlight a few of the outputs:\n",
    "- R-squared is the square of the correlation between x and y, and represents the fraction of the variance in y that can be predicted from x\n",
    "- Adj. R-squared is a modified version of R-squared that accounts for the number of independent variables being used. R-squared will always go up with more independent variables; Adjusted R-squared will not\n",
    "- Prob (F-statistic) is a measure of whether the fit is significant. That is, does knowing x tell you something about y.\n"
   ]
  },
  {
   "cell_type": "markdown",
   "id": "866d935d-b9f2-4762-9199-91ac4e8b9d26",
   "metadata": {
    "slideshow": {
     "slide_type": "slide"
    },
    "tags": []
   },
   "source": [
    "\n",
    "The middle row is also important to understand. It shows the \n",
    "- $\\beta$ coefficients for the constant (intercept) and x values, \n",
    "- the standard errors, which represent the standard deviation of the distribution for the estimate\n",
    "- the P values representing the probability that the $\\beta$ coefficient is not zero and\n",
    "- the 95% confidence bounds for value of the $\\beta$ coefficient\n",
    "\n",
    "\n",
    "In this case, the $\\beta$ for the intercept is not significantly different than 0, but the $\\beta$ for x is, indicating that x is a significant predictor of y."
   ]
  },
  {
   "cell_type": "markdown",
   "id": "5cd0b3ad-d005-4126-8fe0-37c8240fe0eb",
   "metadata": {
    "slideshow": {
     "slide_type": "slide"
    },
    "tags": []
   },
   "source": [
    "We often want to plot the best fit line on top of the data. \n",
    "\n",
    "We could of course  plot the equation of the line $y = \\beta_{0} + \\beta_{1} X$\n",
    "\n",
    "But, since we have a model, we can use that to predict values and plot those predictions as the y's instead:"
   ]
  },
  {
   "cell_type": "code",
   "execution_count": 80,
   "id": "e88c8ae1-8eab-4008-8155-9cf1fa34f4dc",
   "metadata": {
    "slideshow": {
     "slide_type": "slide"
    },
    "tags": []
   },
   "outputs": [
    {
     "data": {
      "text/plain": [
       "<matplotlib.legend.Legend at 0x12102eed0>"
      ]
     },
     "execution_count": 80,
     "metadata": {},
     "output_type": "execute_result"
    },
    {
     "data": {
      "image/png": "[encoded data removed]",
      "text/plain": [
       "<Figure size 640x480 with 1 Axes>"
      ]
     },
     "metadata": {},
     "output_type": "display_data"
    }
   ],
   "source": [
    "tmp_x = np.linspace(0, 1, 100)\n",
    "tmp_x = sm.add_constant(tmp_x)\n",
    "tmp_y = linear_fit.predict(tmp_x)\n",
    "plt.plot(x,y, '.', label='data')\n",
    "ax = plt.gca()\n",
    "ax.plot(tmp_x[:,1], tmp_y, 'k', label='linear fit')\n",
    "plt.xlabel('X')\n",
    "plt.ylabel('Y')\n",
    "ax.legend()"
   ]
  },
  {
   "cell_type": "raw",
   "id": "8d11298a-4f54-4709-b911-157ffcfa8d02",
   "metadata": {
    "slideshow": {
     "slide_type": "slide"
    },
    "tags": []
   },
   "source": [
    "The advantage of being able to make predictions is that we can also easily compute the residuals of our data, which are the differences between the predictions and the data. We can then look at them to make sure that they look approximately Gaussian."
   ]
  },
  {
   "cell_type": "code",
   "execution_count": 81,
   "id": "bc19d193-b780-4960-9116-e2f8fb7548d7",
   "metadata": {
    "slideshow": {
     "slide_type": "slide"
    },
    "tags": []
   },
   "outputs": [
    {
     "data": {
      "text/plain": [
       "Text(0, 0.5, 'Count')"
      ]
     },
     "execution_count": 81,
     "metadata": {},
     "output_type": "execute_result"
    },
    {
     "data": {
      "image/png": "[encoded data removed]",
      "text/plain": [
       "<Figure size 640x480 with 1 Axes>"
      ]
     },
     "metadata": {},
     "output_type": "display_data"
    }
   ],
   "source": [
    "residuals = y - linear_fit.predict(x_fit)\n",
    "plt.hist(residuals)\n",
    "plt.xlabel('Residual')\n",
    "plt.ylabel('Count')"
   ]
  },
  {
   "cell_type": "markdown",
   "id": "ab8769ec-f33d-4caf-a51f-d3f4fcc4694f",
   "metadata": {
    "slideshow": {
     "slide_type": "slide"
    },
    "tags": []
   },
   "source": [
    "#### non-normal residuals\n",
    "\n",
    "Now let's look at what happens when the residuals are not normal:"
   ]
  },
  {
   "cell_type": "code",
   "execution_count": 82,
   "id": "cd36d513-aa98-4699-bdc5-33896dcd33c5",
   "metadata": {
    "slideshow": {
     "slide_type": "slide"
    },
    "tags": []
   },
   "outputs": [],
   "source": [
    "n_data_points_XY = 50\n",
    "# define the mu and sigmas for our X distribution :\n",
    "mu_x = 10\n",
    "sigma_x = 10\n",
    "# for variety, we'll use a log normal distribution for the variabilty of Y around X\n",
    "mu_y = 1.6\n",
    "sigma_y = 1.5\n",
    "# Create a set of simulated X data drawn from a Gaussian distribution\n",
    "X = np.random.normal(loc=mu_x, scale=sigma_x, size=n_data_points_XY)\n",
    "# simulate the Y data as variability around the X data\n",
    "Y = X + np.random.lognormal(mean=mu_y, sigma=sigma_y, size=n_data_points_XY)"
   ]
  },
  {
   "cell_type": "code",
   "execution_count": 83,
   "id": "b39fc779-3d58-496e-b180-f85e30dc80e0",
   "metadata": {
    "slideshow": {
     "slide_type": "slide"
    },
    "tags": []
   },
   "outputs": [
    {
     "data": {
      "text/plain": [
       "Text(0, 0.5, 'Y')"
      ]
     },
     "execution_count": 83,
     "metadata": {},
     "output_type": "execute_result"
    },
    {
     "data": {
      "image/png": "[encoded data removed]",
      "text/plain": [
       "<Figure size 640x480 with 1 Axes>"
      ]
     },
     "metadata": {},
     "output_type": "display_data"
    }
   ],
   "source": [
    "plt.plot(X,Y, 'bo')\n",
    "plt.xlabel('X')\n",
    "plt.ylabel('Y')"
   ]
  },
  {
   "cell_type": "code",
   "execution_count": 84,
   "id": "49809018-ba01-46da-9e7e-f0aefcc76c9f",
   "metadata": {
    "slideshow": {
     "slide_type": "subslide"
    },
    "tags": []
   },
   "outputs": [],
   "source": [
    "X_fit = sm.add_constant(X)\n"
   ]
  },
  {
   "cell_type": "code",
   "execution_count": 85,
   "id": "332b9c11-735f-4339-9075-b852d85238c8",
   "metadata": {
    "slideshow": {
     "slide_type": "subslide"
    },
    "tags": []
   },
   "outputs": [],
   "source": [
    "linear_fit = sm.OLS(Y,X_fit).fit()"
   ]
  },
  {
   "cell_type": "markdown",
   "id": "8d260508-a720-48ea-ade2-950d91dfce67",
   "metadata": {
    "slideshow": {
     "slide_type": "subslide"
    },
    "tags": []
   },
   "source": [
    "We can display a lot of useful information about the fit by printing out the summary:"
   ]
  },
  {
   "cell_type": "code",
   "execution_count": 86,
   "id": "d7002e61-81a3-4893-be71-510709c51ee5",
   "metadata": {
    "slideshow": {
     "slide_type": "slide"
    },
    "tags": []
   },
   "outputs": [
    {
     "name": "stdout",
     "output_type": "stream",
     "text": [
      "                            OLS Regression Results                            \n",
      "==============================================================================\n",
      "Dep. Variable:                      y   R-squared:                       0.121\n",
      "Model:                            OLS   Adj. R-squared:                  0.102\n",
      "Method:                 Least Squares   F-statistic:                     6.582\n",
      "Date:                Thu, 30 Jan 2025   Prob (F-statistic):             0.0135\n",
      "Time:                        08:13:25   Log-Likelihood:                -234.60\n",
      "No. Observations:                  50   AIC:                             473.2\n",
      "Df Residuals:                      48   BIC:                             477.0\n",
      "Df Model:                           1                                         \n",
      "Covariance Type:            nonrobust                                         \n",
      "==============================================================================\n",
      "                 coef    std err          t      P>|t|      [0.025      0.975]\n",
      "------------------------------------------------------------------------------\n",
      "const         14.0522      6.065      2.317      0.025       1.857      26.247\n",
      "x1             0.9424      0.367      2.566      0.013       0.204       1.681\n",
      "==============================================================================\n",
      "Omnibus:                      100.659   Durbin-Watson:                   2.160\n",
      "Prob(Omnibus):                  0.000   Jarque-Bera (JB):             2921.617\n",
      "Skew:                           5.811   Prob(JB):                         0.00\n",
      "Kurtosis:                      38.599   Cond. No.                         26.3\n",
      "==============================================================================\n",
      "\n",
      "Notes:\n",
      "[1] Standard Errors assume that the covariance matrix of the errors is correctly specified.\n"
     ]
    }
   ],
   "source": [
    "print(linear_fit.summary())"
   ]
  },
  {
   "cell_type": "code",
   "execution_count": 87,
   "id": "f7417599-4464-46a4-9fb7-231afe127acc",
   "metadata": {
    "slideshow": {
     "slide_type": "slide"
    },
    "tags": []
   },
   "outputs": [
    {
     "data": {
      "text/plain": [
       "<matplotlib.legend.Legend at 0x1210f7810>"
      ]
     },
     "execution_count": 87,
     "metadata": {},
     "output_type": "execute_result"
    },
    {
     "data": {
      "image/png": "[encoded data removed]",
      "text/plain": [
       "<Figure size 640x480 with 1 Axes>"
      ]
     },
     "metadata": {},
     "output_type": "display_data"
    }
   ],
   "source": [
    "tmp_X = np.linspace(np.min(X), np.max(X), 100)\n",
    "tmp_X = sm.add_constant(tmp_X)\n",
    "tmp_Y = linear_fit.predict(tmp_X)\n",
    "plt.plot(X,Y, '.', label='data')\n",
    "ax = plt.gca()\n",
    "ax.plot(tmp_X[:,1], tmp_Y, 'k', label='linear fit')\n",
    "plt.xlabel('X')\n",
    "plt.ylabel('Y')\n",
    "ax.legend()"
   ]
  },
  {
   "cell_type": "code",
   "execution_count": 89,
   "id": "1049a31c-926f-41c9-9ef7-71b3188415f2",
   "metadata": {
    "slideshow": {
     "slide_type": "slide"
    },
    "tags": []
   },
   "outputs": [
    {
     "data": {
      "text/plain": [
       "Text(0, 0.5, 'Count')"
      ]
     },
     "execution_count": 89,
     "metadata": {},
     "output_type": "execute_result"
    },
    {
     "data": {
      "image/png": "[encoded data removed]",
      "text/plain": [
       "<Figure size 640x480 with 1 Axes>"
      ]
     },
     "metadata": {},
     "output_type": "display_data"
    }
   ],
   "source": [
    "residuals = Y - linear_fit.predict(X_fit)\n",
    "plt.hist(residuals)\n",
    "plt.xlabel('Residual')\n",
    "plt.ylabel('Count')"
   ]
  },
  {
   "cell_type": "markdown",
   "id": "1e127ed7-9360-4747-bd43-15673ff63a7e",
   "metadata": {
    "slideshow": {
     "slide_type": "slide"
    },
    "tags": []
   },
   "source": [
    "These residuals are very non-normal, suggesting that a linear fit is not a good model here. Also note the Omnibus, skewness, and kurtosis values in the summary."
   ]
  },
  {
   "cell_type": "markdown",
   "id": "dc1ae834-a8c6-4a16-93ed-b5ffde6ac48d",
   "metadata": {
    "slideshow": {
     "slide_type": "slide"
    },
    "tags": []
   },
   "source": [
    "We can now go on to try to develop some intuition for these models. Let's try adding ten additional columns $x_{i}$ that are unrelated to y. This is conceptually similar to the case where you measure many variables, and some of them are not related to the one you are trying to predict."
   ]
  },
  {
   "cell_type": "code",
   "execution_count": 17,
   "id": "53ada036-897e-4aa5-9730-dc9635fe11ca",
   "metadata": {
    "slideshow": {
     "slide_type": "slide"
    },
    "tags": []
   },
   "outputs": [],
   "source": [
    "#create an empty array for the x predictors and the column of ones \n",
    "x2_fit = np.zeros((n_points, 12))\n",
    "# carry over the first two colums from x_fit\n",
    "x2_fit[:, 0:2] = x_fit\n",
    "for i in range(2, 12):\n",
    "    #generate some random values\n",
    "    tmp = np.random.uniform(size=n_points)\n",
    "    # add those values on to x\n",
    "    x2_fit[:,i] = tmp\n",
    "    \n",
    "linear_fit2 = sm.OLS(y,x2_fit).fit()\n"
   ]
  },
  {
   "cell_type": "code",
   "execution_count": 18,
   "id": "a8368034-a6cd-4bc0-8d68-f4a449b35db2",
   "metadata": {
    "slideshow": {
     "slide_type": "slide"
    },
    "tags": []
   },
   "outputs": [
    {
     "name": "stdout",
     "output_type": "stream",
     "text": [
      "                            OLS Regression Results                            \n",
      "==============================================================================\n",
      "Dep. Variable:                      y   R-squared:                       0.776\n",
      "Model:                            OLS   Adj. R-squared:                  0.587\n",
      "Method:                 Least Squares   F-statistic:                     4.101\n",
      "Date:                Wed, 29 Jan 2025   Prob (F-statistic):            0.00924\n",
      "Time:                        09:29:22   Log-Likelihood:                 7.3414\n",
      "No. Observations:                  25   AIC:                             9.317\n",
      "Df Residuals:                      13   BIC:                             23.94\n",
      "Df Model:                          11                                         \n",
      "Covariance Type:            nonrobust                                         \n",
      "==============================================================================\n",
      "                 coef    std err          t      P>|t|      [0.025      0.975]\n",
      "------------------------------------------------------------------------------\n",
      "const         -0.4825      0.380     -1.268      0.227      -1.304       0.339\n",
      "x1             1.0266      0.254      4.042      0.001       0.478       1.575\n",
      "x2            -0.1426      0.235     -0.606      0.555      -0.651       0.366\n",
      "x3            -0.4975      0.196     -2.532      0.025      -0.922      -0.073\n",
      "x4             0.2471      0.247      1.000      0.336      -0.287       0.781\n",
      "x5             0.6761      0.317      2.131      0.053      -0.009       1.361\n",
      "x6             0.1703      0.162      1.048      0.314      -0.181       0.521\n",
      "x7             0.1828      0.203      0.901      0.384      -0.255       0.621\n",
      "x8             0.2911      0.257      1.133      0.278      -0.264       0.846\n",
      "x9             0.0607      0.260      0.234      0.819      -0.500       0.621\n",
      "x10           -0.2494      0.198     -1.256      0.231      -0.678       0.179\n",
      "x11            0.1777      0.228      0.781      0.449      -0.314       0.669\n",
      "==============================================================================\n",
      "Omnibus:                        4.816   Durbin-Watson:                   2.392\n",
      "Prob(Omnibus):                  0.090   Jarque-Bera (JB):                1.635\n",
      "Skew:                           0.064   Prob(JB):                        0.441\n",
      "Kurtosis:                       1.754   Cond. No.                         21.1\n",
      "==============================================================================\n",
      "\n",
      "Notes:\n",
      "[1] Standard Errors assume that the covariance matrix of the errors is correctly specified.\n"
     ]
    }
   ],
   "source": [
    "print(linear_fit2.summary())"
   ]
  },
  {
   "cell_type": "markdown",
   "id": "3b2f4203-e92b-4288-a7c7-46cb946768ff",
   "metadata": {
    "slideshow": {
     "slide_type": "slide"
    },
    "tags": []
   },
   "source": [
    "While the results will vary based on the specific random numbers generated, this fit is probably quite a lot \"better\" based on the R-squared value, although the Adjusted R-squared is probably similar. \n",
    "\n",
    "You might also see that more than one of the $\\beta_{i}$ values is \"significant\" or close to it.\n",
    "This should worry you, as if this happens in a real experiment, it would lead to an incorrect conclusion.\n",
    "\n",
    "There are multiple approaches to dealing with this sort of problem, but one of the best is to use cross-validation, where you do the fit based on part of the data and the test it based on the rest of the data. The model with the lowest cross-validated error is the best."
   ]
  },
  {
   "cell_type": "markdown",
   "id": "f102d82a-612a-48ba-9102-4af012893da3",
   "metadata": {
    "slideshow": {
     "slide_type": "slide"
    },
    "tags": []
   },
   "source": [
    "#### Cross-validation for model selection\n",
    "\n",
    "A standard way to cross-validate is to fit the model based on part of the data and then test on the remainder. If you have many data points, you might split the data into fifths, train with four fifths, and test with the remaining fifth. In this case we only have 25 points, so we'll train with 24 and test with the remaining point.\n",
    "\n",
    "We also have to choose an error function. Standard options include the squared error (which we'll use here) and the absolute value of the error. \n",
    "\n",
    "For simplicity, we will compare the original model with a single x predictor to the new model with 11 predictors"
   ]
  },
  {
   "cell_type": "code",
   "execution_count": 9,
   "id": "48d1a9a4-ad9f-4311-8eb0-8f1a5c1753cc",
   "metadata": {
    "slideshow": {
     "slide_type": "slide"
    },
    "tags": []
   },
   "outputs": [],
   "source": [
    "error_1_predictor = 0\n",
    "# create a list of the indexes so we can exclude them one at a time\n",
    "point_ind = np.arange(n_points)\n",
    "for point in range(n_points):\n",
    "    # remove the current point from x_fit to make x_tmp\n",
    "    x_tmp = x_fit[point_ind!=point, :]\n",
    "    # do the same for y\n",
    "    y_tmp = y[point_ind!=point]\n",
    "    # fit the data\n",
    "    linear_fit_tmp = sm.OLS(y_tmp,x_tmp).fit()\n",
    "    # add the distance between the data and the predicted value to the error\n",
    "    error_1_predictor += np.square(y[point]-linear_fit_tmp.predict(x_fit[point]))\n",
    "                                               "
   ]
  },
  {
   "cell_type": "code",
   "execution_count": 10,
   "id": "611c4077-fe3c-4d6b-90fe-61b2ac57c796",
   "metadata": {
    "slideshow": {
     "slide_type": "slide"
    },
    "tags": []
   },
   "outputs": [],
   "source": [
    "error_11_predictors = 0\n",
    "point_ind = np.arange(n_points)\n",
    "for point in range(n_points):\n",
    "    x_tmp = x2_fit[point_ind!=point, :]\n",
    "    y_tmp = y[point_ind!=point]\n",
    "    linear_fit_tmp = sm.OLS(y_tmp,x_tmp).fit()\n",
    "    error_11_predictors += np.square(y[point] - linear_fit_tmp.predict(x2_fit[point]))"
   ]
  },
  {
   "cell_type": "code",
   "execution_count": 11,
   "id": "9306c7ee-ebd4-43b3-b517-464c2a9e687c",
   "metadata": {
    "slideshow": {
     "slide_type": "subslide"
    },
    "tags": []
   },
   "outputs": [
    {
     "name": "stdout",
     "output_type": "stream",
     "text": [
      "Errors with 1 vs. 11 predictors: [2.39154934], [4.68537303]\n"
     ]
    }
   ],
   "source": [
    "print(f'Errors with 1 vs. 11 predictors: {error_1_predictor}, {error_11_predictors}')"
   ]
  },
  {
   "cell_type": "markdown",
   "id": "f6d4cb02-11ac-416a-8cf1-27015f237498",
   "metadata": {
    "slideshow": {
     "slide_type": "subslide"
    },
    "tags": []
   },
   "source": [
    "This indicates that the model with just the first x is a much better fit, as we would expect."
   ]
  },
  {
   "cell_type": "markdown",
   "id": "e91aa963-38ef-4d8b-a42a-d0e5efdb327d",
   "metadata": {
    "slideshow": {
     "slide_type": "slide"
    },
    "tags": []
   },
   "source": [
    "### Non-linear regression\n",
    "\n",
    "The actual relationship among a set of variables is often not well described as linear or may not fit the assumptions of a linear model. In this case there are two reasonable options:\n",
    "\n",
    "1. Transform the independent or dependent variables to make the relationship more linear or the assuptions met. \n",
    "    1. Transformation possibilities:\n",
    "        1. $ newy = \\log(y) $ (useful for lognormally distributed data)\n",
    "        2. $ newy = sqrt(y) $ (useful for count data, which may be from a Poisson distribution)\n",
    "    2. Remember that the domain of these functions is x > 0, so they can only be used for positive data values. \n",
    "    3. Also remember to take the transformation into account when making predictions, etc.\n"
   ]
  },
  {
   "cell_type": "markdown",
   "id": "79b94b76-d54d-472e-9fda-033916e73056",
   "metadata": {
    "jp-MarkdownHeadingCollapsed": true,
    "slideshow": {
     "slide_type": "slide"
    },
    "tags": []
   },
   "source": [
    "2. Fit a non-linear function.\n",
    "    1. Possible functions include\n",
    "        1. $y = a + bx + cx^2 + ... $ (polynomial)  \n",
    "            Note that this is a special case where you can use linear fitting where you feed in the values of $x, x^2, $ etc. and use OLS to fit the parameters just as you would for multiple linear regression.\n",
    "        2. $y= ae^{-bx} $ (exponential)\n",
    "        3. $y = \\log(a + bx) $ (logrithmic)\n",
    "        4. $y = \\large\\frac{1}{1 + exp(-bx)} $ (sigmoid)\n",
    "        5. $y = A\\sin(bx+c) $\n",
    "          \n"
   ]
  },
  {
   "cell_type": "markdown",
   "id": "66f30563-5c54-4fbc-a37c-872a9cc4ac45",
   "metadata": {
    "slideshow": {
     "slide_type": "slide"
    },
    "tags": []
   },
   "source": [
    "For the non-polynomial cases (2-5, and the many other possible equations), the fitting procedure is as follows:\n",
    "1. Define a function that returns the y value given an input x and the parameters a, b, ...\n",
    "2. Make a reasonable guess for initial values of the parameters.\n",
    "3. Use scipy.optimize.curve_fit to estimate the best values for the parameters. See, for example, https://medium.com/analytics-vidhya/non-linear-regression-analysis-e150447ac1a3"
   ]
  },
  {
   "cell_type": "markdown",
   "id": "8dc30f79-e0c9-4e60-90d1-56b4e479436b",
   "metadata": {
    "slideshow": {
     "slide_type": "slide"
    },
    "tags": []
   },
   "source": [
    "### Generalized Linear Models\n",
    "\n",
    "Generalized linear models offer a powerful tool for situations where the dependent variable $y$ is not continuous or normally distributed. Examples of these situations include\n",
    "1. Event outcomes (e.g. correct or incorrect trials / presence or absence of a spike)\n",
    "2. Event counts (e.g number of spikes in a window)\n",
    "\n",
    "General form:  \n",
    "$$ \\large{f(y) = \\beta_{0} + \\sum_{i=1}^n \\beta_{i}x_{i}} $$\n",
    "\n"
   ]
  },
  {
   "cell_type": "markdown",
   "id": "4e3cd287-e60b-4c9e-8ff9-b346919ea3fe",
   "metadata": {
    "slideshow": {
     "slide_type": "slide"
    },
    "tags": []
   },
   "source": [
    "Specific versions:\n",
    "1. Logistic regression\n",
    "    1. Outcome variable y is 0 or 1\n",
    "    2. Uses logit function:  \n",
    "    $ \\large\\log(\\frac{y}{1-y}) = \\beta_{0} + \\sum_{i=1}^n \\beta_{i}x_{i} $\n",
    "    3. Maps outcomes (0 or 1) to full real number line\n",
    "    4. Can also be used for Multinomial regression, where outcomes of each trial is one of K possibilities\n",
    "2. Poisson regression\n",
    "    1. Outcome variable is an event count  \n",
    "    $ \\large\\log(y) = \\beta_{0} + \\sum_{i=1}^n \\beta_{i}x_{i} $"
   ]
  },
  {
   "cell_type": "markdown",
   "id": "66c41602-8e98-4172-a15c-39e450eb87b3",
   "metadata": {
    "slideshow": {
     "slide_type": "subslide"
    },
    "tags": []
   },
   "source": [
    "A simple example of logistic regression:"
   ]
  },
  {
   "cell_type": "code",
   "execution_count": 105,
   "id": "a32529b3-003d-4593-8700-aa48ca653085",
   "metadata": {
    "slideshow": {
     "slide_type": "slide"
    },
    "tags": []
   },
   "outputs": [],
   "source": [
    "# Let's simulate a learning curve for an animal across 100 trials:\n",
    "import scipy.stats as st\n",
    "n_trials = 100\n",
    "trials = np.arange(0, n_trials)\n",
    "\n",
    "# define a sigmoidal probability curve for correct responses across trials\n",
    "p = 1 / (1 + np.exp(-(trials-50)/15))\n",
    "trial_outcome = np.zeros(n_trials)\n",
    "\n",
    "for i in trials:\n",
    "    outcome = st.bernoulli(p[i])\n",
    "    trial_outcome[i] = outcome.rvs()\n"
   ]
  },
  {
   "cell_type": "code",
   "execution_count": 106,
   "id": "c74b35e1-1041-4db8-85c3-7ba9a93b4db4",
   "metadata": {
    "slideshow": {
     "slide_type": "slide"
    },
    "tags": []
   },
   "outputs": [
    {
     "data": {
      "text/plain": [
       "<matplotlib.legend.Legend at 0x120fd6f10>"
      ]
     },
     "execution_count": 106,
     "metadata": {},
     "output_type": "execute_result"
    },
    {
     "data": {
      "image/png": "[encoded data removed]",
      "text/plain": [
       "<Figure size 640x480 with 1 Axes>"
      ]
     },
     "metadata": {},
     "output_type": "display_data"
    }
   ],
   "source": [
    "# Now let's plot the underlying curve and the data we generated to make sure it makes sense\n",
    "plt.plot(trials, p, 'b', label='p(correct)')\n",
    "plt.plot(trials, trial_outcome, 'k.', label='correct')\n",
    "plt.xlabel('Trial number')\n",
    "plt.ylabel('Probability of correct response')\n",
    "plt.legend()"
   ]
  },
  {
   "cell_type": "markdown",
   "id": "65788dba-f3bf-4157-8f87-79af072379f2",
   "metadata": {
    "slideshow": {
     "slide_type": "slide"
    },
    "tags": []
   },
   "source": [
    "Now we can use a logistic regression to determine whether there is a significant effect of trial number on outcome.\n",
    "\n",
    "Here we will introduce two useful approaches: pandas to represent data and the statsmodels forumla api to specify the model:"
   ]
  },
  {
   "cell_type": "code",
   "execution_count": 40,
   "id": "6036a0a9-b5f4-4548-9914-a7107a032a93",
   "metadata": {
    "slideshow": {
     "slide_type": "slide"
    },
    "tags": []
   },
   "outputs": [
    {
     "data": {
      "text/html": [
       "<div>\n",
       "<style scoped>\n",
       "    .dataframe tbody tr th:only-of-type {\n",
       "        vertical-align: middle;\n",
       "    }\n",
       "\n",
       "    .dataframe tbody tr th {\n",
       "        vertical-align: top;\n",
       "    }\n",
       "\n",
       "    .dataframe thead th {\n",
       "        text-align: right;\n",
       "    }\n",
       "</style>\n",
       "<table border=\"1\" class=\"dataframe\">\n",
       "  <thead>\n",
       "    <tr style=\"text-align: right;\">\n",
       "      <th></th>\n",
       "      <th>trial_outcome</th>\n",
       "      <th>trial</th>\n",
       "    </tr>\n",
       "  </thead>\n",
       "  <tbody>\n",
       "    <tr>\n",
       "      <th>0</th>\n",
       "      <td>0.0</td>\n",
       "      <td>0</td>\n",
       "    </tr>\n",
       "    <tr>\n",
       "      <th>1</th>\n",
       "      <td>0.0</td>\n",
       "      <td>1</td>\n",
       "    </tr>\n",
       "    <tr>\n",
       "      <th>2</th>\n",
       "      <td>0.0</td>\n",
       "      <td>2</td>\n",
       "    </tr>\n",
       "    <tr>\n",
       "      <th>3</th>\n",
       "      <td>0.0</td>\n",
       "      <td>3</td>\n",
       "    </tr>\n",
       "    <tr>\n",
       "      <th>4</th>\n",
       "      <td>0.0</td>\n",
       "      <td>4</td>\n",
       "    </tr>\n",
       "    <tr>\n",
       "      <th>...</th>\n",
       "      <td>...</td>\n",
       "      <td>...</td>\n",
       "    </tr>\n",
       "    <tr>\n",
       "      <th>95</th>\n",
       "      <td>1.0</td>\n",
       "      <td>95</td>\n",
       "    </tr>\n",
       "    <tr>\n",
       "      <th>96</th>\n",
       "      <td>1.0</td>\n",
       "      <td>96</td>\n",
       "    </tr>\n",
       "    <tr>\n",
       "      <th>97</th>\n",
       "      <td>1.0</td>\n",
       "      <td>97</td>\n",
       "    </tr>\n",
       "    <tr>\n",
       "      <th>98</th>\n",
       "      <td>1.0</td>\n",
       "      <td>98</td>\n",
       "    </tr>\n",
       "    <tr>\n",
       "      <th>99</th>\n",
       "      <td>1.0</td>\n",
       "      <td>99</td>\n",
       "    </tr>\n",
       "  </tbody>\n",
       "</table>\n",
       "<p>100 rows × 2 columns</p>\n",
       "</div>"
      ],
      "text/plain": [
       "    trial_outcome  trial\n",
       "0             0.0      0\n",
       "1             0.0      1\n",
       "2             0.0      2\n",
       "3             0.0      3\n",
       "4             0.0      4\n",
       "..            ...    ...\n",
       "95            1.0     95\n",
       "96            1.0     96\n",
       "97            1.0     97\n",
       "98            1.0     98\n",
       "99            1.0     99\n",
       "\n",
       "[100 rows x 2 columns]"
      ]
     },
     "execution_count": 40,
     "metadata": {},
     "output_type": "execute_result"
    }
   ],
   "source": [
    "import statsmodels.formula.api as smf\n",
    "import pandas as pd\n",
    "\n",
    "# create a panda's dataframe\n",
    "df = pd.DataFrame()\n",
    "# create two labeled columns, one for trial_outcome and the other for trial\n",
    "df['trial_outcome'] = trial_outcome\n",
    "df['trial'] = trials\n",
    "\n",
    "#let's first look at the dataframe we created\n",
    "df\n"
   ]
  },
  {
   "cell_type": "code",
   "execution_count": 109,
   "id": "bac63905-f225-49bd-a24a-9cf4d66b0218",
   "metadata": {
    "slideshow": {
     "slide_type": "slide"
    },
    "tags": []
   },
   "outputs": [
    {
     "data": {
      "text/html": [
       "<div>\n",
       "<style scoped>\n",
       "    .dataframe tbody tr th:only-of-type {\n",
       "        vertical-align: middle;\n",
       "    }\n",
       "\n",
       "    .dataframe tbody tr th {\n",
       "        vertical-align: top;\n",
       "    }\n",
       "\n",
       "    .dataframe thead th {\n",
       "        text-align: right;\n",
       "    }\n",
       "</style>\n",
       "<table border=\"1\" class=\"dataframe\">\n",
       "  <thead>\n",
       "    <tr style=\"text-align: right;\">\n",
       "      <th></th>\n",
       "      <th>trial_outcome</th>\n",
       "      <th>trial</th>\n",
       "      <th>trials_to_last</th>\n",
       "    </tr>\n",
       "  </thead>\n",
       "  <tbody>\n",
       "    <tr>\n",
       "      <th>0</th>\n",
       "      <td>0.0</td>\n",
       "      <td>0</td>\n",
       "      <td>99</td>\n",
       "    </tr>\n",
       "    <tr>\n",
       "      <th>1</th>\n",
       "      <td>0.0</td>\n",
       "      <td>1</td>\n",
       "      <td>98</td>\n",
       "    </tr>\n",
       "    <tr>\n",
       "      <th>2</th>\n",
       "      <td>0.0</td>\n",
       "      <td>2</td>\n",
       "      <td>97</td>\n",
       "    </tr>\n",
       "    <tr>\n",
       "      <th>3</th>\n",
       "      <td>0.0</td>\n",
       "      <td>3</td>\n",
       "      <td>96</td>\n",
       "    </tr>\n",
       "    <tr>\n",
       "      <th>4</th>\n",
       "      <td>0.0</td>\n",
       "      <td>4</td>\n",
       "      <td>95</td>\n",
       "    </tr>\n",
       "    <tr>\n",
       "      <th>...</th>\n",
       "      <td>...</td>\n",
       "      <td>...</td>\n",
       "      <td>...</td>\n",
       "    </tr>\n",
       "    <tr>\n",
       "      <th>95</th>\n",
       "      <td>1.0</td>\n",
       "      <td>95</td>\n",
       "      <td>4</td>\n",
       "    </tr>\n",
       "    <tr>\n",
       "      <th>96</th>\n",
       "      <td>1.0</td>\n",
       "      <td>96</td>\n",
       "      <td>3</td>\n",
       "    </tr>\n",
       "    <tr>\n",
       "      <th>97</th>\n",
       "      <td>1.0</td>\n",
       "      <td>97</td>\n",
       "      <td>2</td>\n",
       "    </tr>\n",
       "    <tr>\n",
       "      <th>98</th>\n",
       "      <td>1.0</td>\n",
       "      <td>98</td>\n",
       "      <td>1</td>\n",
       "    </tr>\n",
       "    <tr>\n",
       "      <th>99</th>\n",
       "      <td>1.0</td>\n",
       "      <td>99</td>\n",
       "      <td>0</td>\n",
       "    </tr>\n",
       "  </tbody>\n",
       "</table>\n",
       "<p>100 rows × 3 columns</p>\n",
       "</div>"
      ],
      "text/plain": [
       "    trial_outcome  trial  trials_to_last\n",
       "0             0.0      0              99\n",
       "1             0.0      1              98\n",
       "2             0.0      2              97\n",
       "3             0.0      3              96\n",
       "4             0.0      4              95\n",
       "..            ...    ...             ...\n",
       "95            1.0     95               4\n",
       "96            1.0     96               3\n",
       "97            1.0     97               2\n",
       "98            1.0     98               1\n",
       "99            1.0     99               0\n",
       "\n",
       "[100 rows x 3 columns]"
      ]
     },
     "execution_count": 109,
     "metadata": {},
     "output_type": "execute_result"
    }
   ],
   "source": [
    "# and just for dataframe demonstration purposes:\n",
    "df['trials_to_last'] = 99 - df['trial']\n",
    "df"
   ]
  },
  {
   "cell_type": "code",
   "execution_count": 42,
   "id": "8b37c37a-b9ef-448d-b18b-cbce182fb465",
   "metadata": {
    "slideshow": {
     "slide_type": "slide"
    },
    "tags": []
   },
   "outputs": [
    {
     "name": "stdout",
     "output_type": "stream",
     "text": [
      "Optimization terminated successfully.\n",
      "         Current function value: 0.436006\n",
      "         Iterations 6\n"
     ]
    },
    {
     "data": {
      "text/html": [
       "<table class=\"simpletable\">\n",
       "<caption>Logit Regression Results</caption>\n",
       "<tr>\n",
       "  <th>Dep. Variable:</th>     <td>trial_outcome</td>  <th>  No. Observations:  </th>  <td>   100</td>  \n",
       "</tr>\n",
       "<tr>\n",
       "  <th>Model:</th>                 <td>Logit</td>      <th>  Df Residuals:      </th>  <td>    98</td>  \n",
       "</tr>\n",
       "<tr>\n",
       "  <th>Method:</th>                 <td>MLE</td>       <th>  Df Model:          </th>  <td>     1</td>  \n",
       "</tr>\n",
       "<tr>\n",
       "  <th>Date:</th>            <td>Wed, 29 Jan 2025</td> <th>  Pseudo R-squ.:     </th>  <td>0.3702</td>  \n",
       "</tr>\n",
       "<tr>\n",
       "  <th>Time:</th>                <td>09:41:11</td>     <th>  Log-Likelihood:    </th> <td> -43.601</td> \n",
       "</tr>\n",
       "<tr>\n",
       "  <th>converged:</th>             <td>True</td>       <th>  LL-Null:           </th> <td> -69.235</td> \n",
       "</tr>\n",
       "<tr>\n",
       "  <th>Covariance Type:</th>     <td>nonrobust</td>    <th>  LLR p-value:       </th> <td>8.057e-13</td>\n",
       "</tr>\n",
       "</table>\n",
       "<table class=\"simpletable\">\n",
       "<tr>\n",
       "      <td></td>         <th>coef</th>     <th>std err</th>      <th>z</th>      <th>P>|z|</th>  <th>[0.025</th>    <th>0.975]</th>  \n",
       "</tr>\n",
       "<tr>\n",
       "  <th>Intercept</th> <td>   -3.4536</td> <td>    0.692</td> <td>   -4.989</td> <td> 0.000</td> <td>   -4.810</td> <td>   -2.097</td>\n",
       "</tr>\n",
       "<tr>\n",
       "  <th>trial</th>     <td>    0.0669</td> <td>    0.012</td> <td>    5.358</td> <td> 0.000</td> <td>    0.042</td> <td>    0.091</td>\n",
       "</tr>\n",
       "</table>"
      ],
      "text/latex": [
       "\\begin{center}\n",
       "\\begin{tabular}{lclc}\n",
       "\\toprule\n",
       "\\textbf{Dep. Variable:}   &  trial\\_outcome  & \\textbf{  No. Observations:  } &      100    \\\\\n",
       "\\textbf{Model:}           &      Logit       & \\textbf{  Df Residuals:      } &       98    \\\\\n",
       "\\textbf{Method:}          &       MLE        & \\textbf{  Df Model:          } &        1    \\\\\n",
       "\\textbf{Date:}            & Wed, 29 Jan 2025 & \\textbf{  Pseudo R-squ.:     } &   0.3702    \\\\\n",
       "\\textbf{Time:}            &     09:41:11     & \\textbf{  Log-Likelihood:    } &   -43.601   \\\\\n",
       "\\textbf{converged:}       &       True       & \\textbf{  LL-Null:           } &   -69.235   \\\\\n",
       "\\textbf{Covariance Type:} &    nonrobust     & \\textbf{  LLR p-value:       } & 8.057e-13   \\\\\n",
       "\\bottomrule\n",
       "\\end{tabular}\n",
       "\\begin{tabular}{lcccccc}\n",
       "                   & \\textbf{coef} & \\textbf{std err} & \\textbf{z} & \\textbf{P$> |$z$|$} & \\textbf{[0.025} & \\textbf{0.975]}  \\\\\n",
       "\\midrule\n",
       "\\textbf{Intercept} &      -3.4536  &        0.692     &    -4.989  &         0.000        &       -4.810    &       -2.097     \\\\\n",
       "\\textbf{trial}     &       0.0669  &        0.012     &     5.358  &         0.000        &        0.042    &        0.091     \\\\\n",
       "\\bottomrule\n",
       "\\end{tabular}\n",
       "%\\caption{Logit Regression Results}\n",
       "\\end{center}"
      ],
      "text/plain": [
       "<class 'statsmodels.iolib.summary.Summary'>\n",
       "\"\"\"\n",
       "                           Logit Regression Results                           \n",
       "==============================================================================\n",
       "Dep. Variable:          trial_outcome   No. Observations:                  100\n",
       "Model:                          Logit   Df Residuals:                       98\n",
       "Method:                           MLE   Df Model:                            1\n",
       "Date:                Wed, 29 Jan 2025   Pseudo R-squ.:                  0.3702\n",
       "Time:                        09:41:11   Log-Likelihood:                -43.601\n",
       "converged:                       True   LL-Null:                       -69.235\n",
       "Covariance Type:            nonrobust   LLR p-value:                 8.057e-13\n",
       "==============================================================================\n",
       "                 coef    std err          z      P>|z|      [0.025      0.975]\n",
       "------------------------------------------------------------------------------\n",
       "Intercept     -3.4536      0.692     -4.989      0.000      -4.810      -2.097\n",
       "trial          0.0669      0.012      5.358      0.000       0.042       0.091\n",
       "==============================================================================\n",
       "\"\"\""
      ]
     },
     "execution_count": 42,
     "metadata": {},
     "output_type": "execute_result"
    }
   ],
   "source": [
    "\n",
    "# specify that we want to predict trial_outcome from trial and use the data in df for our logistic regression:\n",
    "test_model = smf.logit(\"trial_outcome ~ trial\", data=df).fit()\n",
    "test_model.summary()\n",
    "\n",
    "# Note that if we wanted to add additional variables to the model, we would do something like \n",
    "# test_model = smf.logit(\"trial_outcome ~ trial + new_variable\", data=df).fit()"
   ]
  },
  {
   "cell_type": "markdown",
   "id": "37a36b85-ae1e-428b-b7e7-e3d1fd0d8386",
   "metadata": {
    "slideshow": {
     "slide_type": "slide"
    },
    "tags": []
   },
   "source": [
    "The results indicate that the coefficient for trial is significant, implying that trial number is a significant predictor of outcome, and thus that there was learning.\n",
    "\n",
    "We can also make predictions from this model to get a sense for how closely it approximates the actual underlying probability of correct responses:"
   ]
  },
  {
   "cell_type": "code",
   "execution_count": 43,
   "id": "5eb26fab-0ce9-4be0-a707-10b9c976dfca",
   "metadata": {
    "slideshow": {
     "slide_type": "slide"
    },
    "tags": []
   },
   "outputs": [
    {
     "data": {
      "text/plain": [
       "<matplotlib.legend.Legend at 0x120835b50>"
      ]
     },
     "execution_count": 43,
     "metadata": {},
     "output_type": "execute_result"
    },
    {
     "data": {
      "image/png": "[encoded data removed]",
      "text/plain": [
       "<Figure size 640x480 with 1 Axes>"
      ]
     },
     "metadata": {},
     "output_type": "display_data"
    }
   ],
   "source": [
    "outcome_pred = test_model.predict()\n",
    "plt.plot(trials, p, 'b', label='p(correct)')\n",
    "plt.plot(trials, outcome_pred, 'k', label='model p(correct)')\n",
    "plt.xlabel('Trial number')\n",
    "plt.ylabel('Probability of correct response')\n",
    "plt.legend()"
   ]
  },
  {
   "cell_type": "markdown",
   "id": "6d1a49db-e6d8-49c5-9836-d452b3c6a637",
   "metadata": {
    "slideshow": {
     "slide_type": "subslide"
    },
    "tags": []
   },
   "source": [
    "The model should be close to the real curve, but due to the randomness in the data, it won't overlap perfectly. "
   ]
  },
  {
   "cell_type": "code",
   "execution_count": null,
   "id": "784ece90-9523-4cc8-a565-e6f1d78751ce",
   "metadata": {},
   "outputs": [],
   "source": []
  },
  {
   "cell_type": "code",
   "execution_count": null,
   "id": "b4c53d73-96f4-49b1-9aac-c0ade8a2cd41",
   "metadata": {},
   "outputs": [],
   "source": []
  }
 ],
 "metadata": {
  "kernelspec": {
   "display_name": "Python 3 (ipykernel)",
   "language": "python",
   "name": "python3"
  },
  "language_info": {
   "codemirror_mode": {
    "name": "ipython",
    "version": 3
   },
   "file_extension": ".py",
   "mimetype": "text/x-python",
   "name": "python",
   "nbconvert_exporter": "python",
   "pygments_lexer": "ipython3",
   "version": "3.11.11"
  }
 },
 "nbformat": 4,
 "nbformat_minor": 5
}
